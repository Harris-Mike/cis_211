{
 "cells": [
  {
   "cell_type": "markdown",
   "metadata": {},
   "source": [
    "##### <span style=\"color:red\">Name:</span>"
   ]
  },
  {
   "cell_type": "markdown",
   "metadata": {},
   "source": [
    "=== *Edit this code cell to include your name and DuckID* ==="
   ]
  },
  {
   "cell_type": "markdown",
   "metadata": {},
   "source": [
    "# <span style=\"color:teal;\">CIS 211 Project 5:  Blackjack</span>"
   ]
  },
  {
   "cell_type": "markdown",
   "metadata": {},
   "source": [
    "##### Due 11:00 P.M. Tuesday May 5"
   ]
  },
  {
   "cell_type": "markdown",
   "metadata": {},
   "source": [
    "##### Reading:  Perkovic Ch 9 (plus a program in Sec 6.5)"
   ]
  },
  {
   "cell_type": "markdown",
   "metadata": {},
   "source": [
    "This week's project is to write a Python program that plays Blackjack.  The program will have a GUI implemented with Tk."
   ]
  },
  {
   "cell_type": "markdown",
   "metadata": {},
   "source": [
    "For this week's project there is just one markdown cell to fill in for documentation.  Use the markdown cell to explain what you did to create your GUI, how you tested your program, and anything that is interesting about your project."
   ]
  },
  {
   "cell_type": "markdown",
   "metadata": {},
   "source": [
    "### <span style=\"color:teal\">Setup</span>"
   ]
  },
  {
   "cell_type": "markdown",
   "metadata": {},
   "source": [
    "Make sure you have the following files in your project directory:\n",
    "* the Card class from Project 2 (either copy your own Card.py class, or download `Card.pyc` from Canvas)\n",
    "* the Deck class from Project 3 (your own, or download `Deck.pyc` from Canvas)\n",
    "* the CardLabel class and cardimages folder, download from Canvas"
   ]
  },
  {
   "cell_type": "markdown",
   "metadata": {},
   "source": [
    "To test a GUI program from an IPython Notebook execute the following code cell each time you open this notebook or reset the kernel:"
   ]
  },
  {
   "cell_type": "code",
   "execution_count": 7,
   "metadata": {
    "collapsed": false
   },
   "outputs": [],
   "source": [
    "%gui tk\n",
    "\n",
    "from tkinter import *\n",
    "from tkinter.messagebox import showinfo"
   ]
  },
  {
   "cell_type": "markdown",
   "metadata": {},
   "source": [
    "If you are going to use IPython, use this statement to import the CardLabel class:"
   ]
  },
  {
   "cell_type": "code",
   "execution_count": 8,
   "metadata": {
    "collapsed": false,
    "scrolled": true
   },
   "outputs": [
    {
     "name": "stdout",
     "output_type": "stream",
     "text": [
      "[2♣, 3♣, 4♣, 5♣, 6♣, 7♣, 8♣, 9♣, 10♣, J♣, Q♣, K♣, A♣, 2♦, 3♦, 4♦, 5♦, 6♦, 7♦, 8♦, 9♦, 10♦, J♦, Q♦, K♦, A♦, 2♥, 3♥, 4♥, 5♥, 6♥, 7♥, 8♥, 9♥, 10♥, J♥, Q♥, K♥, A♥, 2♠, 3♠, 4♠, 5♠, 6♠, 7♠, 8♠, 9♠, 10♠, J♠, Q♠, K♠, A♠]\n"
     ]
    }
   ],
   "source": [
    "from CardLabel import CardTextLabel as CardLabel\n",
    "from Card import *\n",
    "from decks import *\n"
   ]
  },
  {
   "cell_type": "markdown",
   "metadata": {},
   "source": [
    "### <span style=\"color:teal\">Programming Project</span>"
   ]
  },
  {
   "cell_type": "markdown",
   "metadata": {},
   "source": [
    "Write a program that will play a game of Blackjack. \n",
    "\n",
    "The top level window in the GUI for the program should have room for two rows of cards, with six cards in each row. Below the cards display three buttons, named “deal”, “hit”, and “stand”.\n",
    "\n",
    "The Deal button should start a new game. Shuffle a deck of cards, then display two cards for the dealer in the top row, with one card face down, and display two cards for the player, both face up, in the bottom row. The remaining four places in each row should be blank cards.  This is the initial display (using the CardTextLabel class to work around the IPython image bug):\n",
    "\n",
    "<img src=\"http://www.cs.uoregon.edu/Classes/15S/cis211/images/blackjack_hand.png\"/>\n",
    "\n",
    "The Hit button should add a card, face up, in the bottom row, and it should update the player’s score using a function named `total` (described below). If the score is over 21 the player loses the game, and your program should display an alert box with a consoling message.\n",
    "\n",
    "If the user clicks the Stand button, turn over the dealer’s hidden card and compute the total points for the cards in the dealer’s row. Then while the dealer’s total score is less than 17 add cards (displayed face up) to the dealer’s hand and add the points for that card to the dealer’s total. When the dealer’s total is 17 or higher compare the dealer’s total with the player’s total and display a message that shows the result of the game (dealer wins, player wins, or tie game)."
   ]
  },
  {
   "cell_type": "markdown",
   "metadata": {},
   "source": [
    "### <span style=\"color:teal\">Counting Points</span>\n"
   ]
  },
  {
   "cell_type": "markdown",
   "metadata": {},
   "source": [
    "In Blackjack aces can be either 11 points or 1 point.  The function that computes the total number of points in a hand needs to \"optimize\" the assignment of points for each ace.\n",
    "\n",
    "An algorithm on page 201 (Sec 6.5) of the textbook explains how to compute the points in a hand.  You need to adapt this so it works with our Card objects.\n",
    "\n",
    "The idea is to use a loop that computes an initial total, using 11 points for each ace and counting the number of aces in the hand. Then a second loop changes aces to 1 point if necessary: while the number of aces is greater than 0 and the total is greater than 21 subtract 10 from the total and subtract one from the ace counter."
   ]
  },
  {
   "cell_type": "markdown",
   "metadata": {},
   "source": [
    "### <span style=\"color:teal\">Define a New Frame Class</span>"
   ]
  },
  {
   "cell_type": "markdown",
   "metadata": {},
   "source": [
    "For full credit, your GUI should be fully encapsulated inside a new class named BlackjackFrame, derived from Tk's Frame class."
   ]
  },
  {
   "cell_type": "markdown",
   "metadata": {},
   "source": [
    "You can write a program that uses global variables as names of widgets and callbacks, but there will be a **10% penalty.**"
   ]
  },
  {
   "cell_type": "markdown",
   "metadata": {},
   "source": [
    "### <span style=\"color:teal\">Variable Names</span>"
   ]
  },
  {
   "cell_type": "markdown",
   "metadata": {},
   "source": [
    "<span style=\"color:red; font-weight:bold;\">Important:</span> The automated test program we will use for this project requires you to use the following variable names:\n",
    "* use `cards` as the name of the deck of cards\n",
    "* use `player_hand` and `dealer_hand` for the names of the lists of cards for each player\n",
    "* use `dealcb`, `hitcb`, and `standcb` as the names for the callback functions for the Deal, Hit, and Stand buttons\n",
    "\n",
    "Note: If you are putting all your code inside the BlackjackFrame class, the list names should all be preceded by an underscore: `_cards`, `_player_hand`, and `_dealer_hand`."
   ]
  },
  {
   "cell_type": "markdown",
   "metadata": {},
   "source": [
    "### <span style=\"color:teal\">Your Program</span> "
   ]
  },
  {
   "cell_type": "markdown",
   "metadata": {},
   "source": [
    "##### <span style=\"color:red\">Documentation:</span>"
   ]
  },
  {
   "cell_type": "markdown",
   "metadata": {},
   "source": [
    "=== *Use this markdown cell to describe your program and how you tested it.* ===\n",
    "\n",
    "BlackjackFrame creates a frame object with three buttons and room for 12 cards.  There are buttons for hit, deal and stand with respective functions.  alert window shows outcome of game.  Calls new game to reset playing field"
   ]
  },
  {
   "cell_type": "markdown",
   "metadata": {},
   "source": [
    "##### <span style=\"color:red\">Program:</span>"
   ]
  },
  {
   "cell_type": "code",
   "execution_count": 23,
   "metadata": {
    "collapsed": false
   },
   "outputs": [],
   "source": [
    "# use this code cell (and additional code cells, if you want) to write and test your program\n",
    "app = Tk()\n",
    "class BlackjackFrame(Frame):\n",
    "    '''\n",
    "    BlackjackFrame class  Inherits Frame\n",
    "    Methods:\n",
    "    Init\n",
    "    Deal\n",
    "    Stand\n",
    "    Total\n",
    "    Hit\n",
    "    New_game\n",
    "    \n",
    "    '''\n",
    "    dealerpos = 0\n",
    "    playerpos = 0\n",
    "       \n",
    "    def __init__(self,parent):\n",
    "        '''\n",
    "        Creates new TKinter frame.  hit stand and deal button\n",
    "        \n",
    "        '''\n",
    "        player_position = 0\n",
    "        dealer_position=0\n",
    "        Frame.__init__(self)\n",
    "        self._dealcb = Button(parent, text='Deal', command = self.deal)\n",
    "        self._dealcb.grid(row=2, column=0, pady=10, columnspan=2)\n",
    "    \n",
    "        self._hitcb = Button(parent, text='Hit', command = self.hit)\n",
    "        self._hitcb.grid(row=2, column=2, pady=10, columnspan=2)\n",
    "        self._standcb = Button(parent, text='Pass', command = self.stand)\n",
    "        self._standcb.grid(row=2, column=4, pady=10, columnspan=2)\n",
    "        \n",
    "        CardLabel.load_images()\n",
    "        self._dealercard = [CardLabel(parent) for i in range(6)]\n",
    "        self._playercard = [CardLabel(parent) for i in range(6)]\n",
    "       \n",
    "       \n",
    "\n",
    "        BlackjackFrame.dealerpos=0\n",
    "        for card in self._dealercard:\n",
    "            card.grid(row=0, column=BlackjackFrame.dealerpos)\n",
    "            card.display(side='blank') \n",
    "            BlackjackFrame.dealerpos += 1\n",
    "        \n",
    "        BlackjackFrame.playerpos = 0\n",
    "        for card in self._playercard:\n",
    "            card.grid(row=1, column=BlackjackFrame.playerpos)\n",
    "            card.display(side='blank')  \n",
    "            BlackjackFrame.playerpos += 1\n",
    "        \n",
    "    def deal(self):\n",
    "        '''\n",
    "        Creates and shuffles new deck\n",
    "        Deals two cards to each player\n",
    "        Back front dealer\n",
    "        front front dealer\n",
    "        \n",
    "        '''\n",
    "        self._cards = Deck()\n",
    "        self._cards.shuffle()\n",
    "        self._dealer_hand = self._cards.deal(2)\n",
    "        self._player_hand = self._cards.deal(2)\n",
    "\n",
    "        self._dealercard[1].display('front', int(self._dealer_hand[0]._num[3]))\n",
    "        self._dealercard[0].display('back', int(self._dealer_hand[1]._num[3]))\n",
    "\n",
    "        self._playercard[0].display('front', int(self._player_hand[0]._num[3]))\n",
    "        self._playercard[1].display('front', int(self._player_hand[1]._num[3]))\n",
    "    counter = 1 \n",
    "    def hit(self):\n",
    "        '''\n",
    "      Deals additional card to player\n",
    "      Calls total at end of call          \n",
    "        '''\n",
    "        self._player_hand += self._cards.deal(1)\n",
    "        self._playercard[BlackjackFrame.counter+1].display('front', self._player_hand[BlackjackFrame.counter+1]._num[3])\n",
    "        BlackjackFrame.counter += 1\n",
    "        BlackjackFrame.total(self)\n",
    "    dealercounter=0\n",
    "    def stand(self):\n",
    "        '''\n",
    "        Dealer algorithm\n",
    "        If player points less than dealer, dealer wins\n",
    "        If dealer over 21 or less than player, player wins\n",
    "        calls new game\n",
    "        '''\n",
    "        BlackjackFrame.total(self)\n",
    "        self._dealercard[0].display('front', self._dealer_hand[1]._num[3])\n",
    "        while self._dealer_points < 17:\n",
    "            self._dealer_hand += self._cards.deal(1)\n",
    "            self._dealercard[BlackjackFrame.dealercounter+1].display('front', self._dealer_hand[BlackjackFrame.dealercounter+1]._num[3])\n",
    "            BlackjackFrame.dealercounter += 1\n",
    "            BlackjackFrame.total(self)\n",
    "        if self._dealer_points > self._player_points and self._dealer_points <= 21 or self._player_points > 21:\n",
    "            showinfo('Game Over', \"Dealer Wins!\")\n",
    "            self.new_game()\n",
    "        elif self._dealer_points < self._player_points or self._dealer_points > 21:\n",
    "            showinfo(\"Game Over\", \"You Win!\")\n",
    "            self.new_game()\n",
    "        else:\n",
    "            showinfo(\"Game Over\" , \"Tie\")\n",
    "            self.new_game()\n",
    "\n",
    "    def total(self):\n",
    "        '''\n",
    "        Totals points.\n",
    "        calls new game\n",
    "        \n",
    "        \n",
    "        '''\n",
    "        self._player_points = 0 \n",
    "        aces = 0\n",
    "        for card in self._player_hand:\n",
    "            self._player_points += BlackjackCard.points(card)\n",
    "            if card.rank() == 12:\n",
    "                aces += 1\n",
    "        while self._player_points > 21 and aces > 0:\n",
    "            self._player_points -= 10\n",
    "            aces -= 1\n",
    "        self._dealer_points = 0\n",
    "        aces = 0\n",
    "        for card in self._dealer_hand:\n",
    "            self._dealer_points += BlackjackCard.points(card)\n",
    "            if card.rank() == 12:\n",
    "                aces += 1\n",
    "        while self._dealer_points > 21 and aces > 0:\n",
    "            self._player_points -= 10\n",
    "            aces -= 1\n",
    "        if self._player_points > 21:\n",
    "            self._dealercard[0].display('front', int(self._dealer_hand[1]._num[3]))\n",
    "            showinfo(\"Game over\",\"Dealer Wins!\")\n",
    "            self.new_game()\n",
    "    def new_game(self):\n",
    "        '''\n",
    "        Resets game field\n",
    "        '''\n",
    "        \n",
    "        BlackjackFrame.counter=0\n",
    "        BlackjackFrame.dealercounter=0\n",
    "        BlackjackFrame.dealerpos=0\n",
    "        for card in self._dealercard:\n",
    "            card.grid(row=0, column=BlackjackFrame.dealerpos)\n",
    "            card.display(side='blank') \n",
    "            BlackjackFrame.dealerpos += 1\n",
    "        \n",
    "        BlackjackFrame.playerpos = 0\n",
    "        for card in self._playercard:\n",
    "            card.grid(row=1, column=BlackjackFrame.playerpos)\n",
    "            card.display(side='blank')  \n",
    "            BlackjackFrame.playerpos += 1\n",
    "        \n",
    "BlackjackFrame(app).pack()"
   ]
  },
  {
   "cell_type": "markdown",
   "metadata": {
    "collapsed": true
   },
   "source": [
    "### <span style=\"color:teal\">Extra Credit Ideas</span>"
   ]
  },
  {
   "cell_type": "markdown",
   "metadata": {},
   "source": [
    "<span style=\"color:red; font-weight:bold;\">Important:</span>  To earn extra credit points make sure you fill in the following markup cell to explain what you did so the graders will look for your extensions when they grade your project:"
   ]
  },
  {
   "cell_type": "markdown",
   "metadata": {},
   "source": [
    "=== *Describe any extra credit projects here* ==="
   ]
  },
  {
   "cell_type": "markdown",
   "metadata": {
    "collapsed": true
   },
   "source": [
    "Keep track of how many games the player has won or lost, display the counts in text labels"
   ]
  },
  {
   "cell_type": "markdown",
   "metadata": {},
   "source": [
    "Let the user specify an initial amount of money they want to play with, and the amount they want to bet at the start of a game.  When the game is over add to or subtract from their balance."
   ]
  },
  {
   "cell_type": "markdown",
   "metadata": {},
   "source": [
    "Check to see if the player or dealer have \"blackjack\" (the hand has 21 points with only two cards).  A blackjack wins the game immediately."
   ]
  },
  {
   "cell_type": "markdown",
   "metadata": {},
   "source": [
    "In some casinos, the dealer or the player wins if they have 5 cards that total 21 or less, no matter what the other player’s total is (unless the other person has a blackjack)."
   ]
  },
  {
   "cell_type": "markdown",
   "metadata": {},
   "source": [
    "#### Extra Credit: Monte Carlo "
   ]
  },
  {
   "cell_type": "markdown",
   "metadata": {},
   "source": [
    "The window in your Blackjack program has room for 6 cards for each player. Is this enough space? What is the probability of a player needing more than 6 cards? One way to figure this out is to use a technique called, appropriately enough, **Monte Carlo integration.**\n",
    "\n",
    "Create a histogram with 10 bins, labeled 1 through 10, all initially set to 0. Then deal a series of hands, keeping track of how many cards you need to deal before the total is 22 or higher. For each hand update the bin that corresponds to the number of cards dealt; for example, if a hand reaches 25 on the 3rd card add one to the count in bin 3. If you repeat this process several million times you will start to get a pretty good idea of the shape of the probability distribution.\n",
    "\n",
    "How many times did you get a hand that would have won a game with 5 cards, *i.e.* how many hands took 6 or more cards to go past 21? From this count can you calculate the probability of winning with 5 cards? Will your program ever see a hand that requires 7 or more images in a single row?\n"
   ]
  },
  {
   "cell_type": "code",
   "execution_count": null,
   "metadata": {
    "collapsed": true
   },
   "outputs": [],
   "source": []
  }
 ],
 "metadata": {
  "kernelspec": {
   "display_name": "Python 3",
   "language": "python",
   "name": "python3"
  },
  "language_info": {
   "codemirror_mode": {
    "name": "ipython",
    "version": 3
   },
   "file_extension": ".py",
   "mimetype": "text/x-python",
   "name": "python",
   "nbconvert_exporter": "python",
   "pygments_lexer": "ipython3",
   "version": "3.4.0"
  }
 },
 "nbformat": 4,
 "nbformat_minor": 0
}
