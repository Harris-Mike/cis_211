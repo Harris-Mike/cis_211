{
 "cells": [
  {
   "cell_type": "markdown",
   "metadata": {},
   "source": [
    "# <span style=\"color:teal;\">CIS 211 Project 1:  Warmup</span>"
   ]
  },
  {
   "cell_type": "markdown",
   "metadata": {},
   "source": [
    "Author Michael Harris"
   ]
  },
  {
   "cell_type": "markdown",
   "metadata": {},
   "source": [
    "##### Due 11:00 P.M. Tuesday April 7"
   ]
  },
  {
   "cell_type": "markdown",
   "metadata": {},
   "source": [
    "##### Reading:  Perkovic Ch 7 (especially Sec. 7.4)"
   ]
  },
  {
   "cell_type": "markdown",
   "metadata": {},
   "source": [
    "The first project this term has two goals: (a) learn how to use IPython Notebook to write and test function and class definitions, and (b) iron out any kinks in the process for submitting projects."
   ]
  },
  {
   "cell_type": "markdown",
   "metadata": {},
   "source": [
    "Your assignment is to write functions that will be used by a program named `print_names` that  reads a set of names from a text file and prints them in the terminal window.  The command line arguments specify the name of the file and the order in which to print the names.  This example shows how to print the names in `gr.txt` with last names first:\n",
    "<pre>\n",
    "% python3 print_names.py gr.txt last\n",
    "Amp, Lucifer\n",
    "Bland, Teddy\n",
    "Bland, Lyle\n",
    "...\n",
    "</pre>\n",
    "This example prints the sames names, but with first name first:\n",
    "<pre>\n",
    "% python3 print_names.py gr.txt first\n",
    "Austin Quoad\n",
    "Blatherard Osmo\n",
    "...\n",
    "</pre>"
   ]
  },
  {
   "cell_type": "markdown",
   "metadata": {},
   "source": [
    "A data file you can use to test your functions is `gr.txt` (you can find it on Piazza as well as Blackboard). \n",
    "The file is a plain text file where each line always has exactly two names separated by a space:\n",
    "<pre>\n",
    "Osbie Feel\n",
    "Tyrone Slothrop\n",
    "Josef Ombindi\n",
    "...\n",
    "</pre>"
   ]
  },
  {
   "cell_type": "markdown",
   "metadata": {},
   "source": [
    "The three things you need to do are:\n",
    "* define a class called Name\n",
    "* implement a function called `name_list` that reads names and makes Name objects\n",
    "* implement a function called `print_names` that prints names in a specified format\n",
    "\n",
    "To complete this assignment you will fill in cells in this notebook.  For each part of the project, you need to fill in a markdown cell with a short description of what you did, add Python code with the definition of your class or function to specified code cells, and then add mode code cells that test your code."
   ]
  },
  {
   "cell_type": "markdown",
   "metadata": {},
   "source": [
    "###  <span style=\"color:teal\">1. &nbsp; Name Class</span>"
   ]
  },
  {
   "cell_type": "markdown",
   "metadata": {},
   "source": [
    "The first step is to write the definition of a class called Name. When a new Name object is created pass the constructor two strings. These will become the first and last name of the new Name object, *e.g.*\n",
    "<pre>\n",
    ">>> x = Name('fred', 'flintstone')\n",
    "</pre>"
   ]
  },
  {
   "cell_type": "markdown",
   "metadata": {},
   "source": [
    "You need to write two methods, the “getters” that return parts of a name:\n",
    "<pre>\n",
    ">>> x.first()\n",
    "'fred'\n",
    "\n",
    ">>> x.last()\n",
    "'flintstone'\n",
    "</pre>"
   ]
  },
  {
   "cell_type": "markdown",
   "metadata": {},
   "source": [
    "You should also include the `__repr__` method.  Define the method so it displays a Name object as a string with the first name, a space, and the last name:\n",
    "<pre>\n",
    ">>> x\n",
    "fred flintstone\n",
    "</pre>"
   ]
  },
  {
   "cell_type": "markdown",
   "metadata": {},
   "source": [
    "##### <span style=\"color:red\">Documentation:</span>"
   ]
  },
  {
   "cell_type": "markdown",
   "metadata": {},
   "source": [
    "=== Describe your class in this markdown cell ===\n",
    ">Class main: First last name arguments.  First returns first name.  last returns last name.  name_list creates list of names from file. print_names prints list of sorted names.  Extra credit: if initial is true, print initail plus remaining name (first or last depending on sort preference)"
   ]
  },
  {
   "cell_type": "markdown",
   "metadata": {},
   "source": [
    "##### <span style=\"color:red\">Code:</span>"
   ]
  },
  {
   "cell_type": "code",
   "execution_count": 20,
   "metadata": {
    "collapsed": false
   },
   "outputs": [],
   "source": [
    "# Put your class definition in this code cell\n",
    "class Name:\n",
    "    \n",
    "    def __init__(self, firstName,lastName):\n",
    "        '''\n",
    "        Initialize Name class\n",
    "        Arguments, firstName, lastName\n",
    "        \n",
    "        '''\n",
    "        self._first=firstName\n",
    "        self._last=lastName\n",
    "    def first(self):\n",
    "        '''\n",
    "        arguments: self\n",
    "        returns First name\n",
    "        \n",
    "        '''\n",
    "        return self._first\n",
    "    def last(self):\n",
    "        '''\n",
    "        arguments: self\n",
    "        returns: last name\n",
    "        \n",
    "        \n",
    "        '''\n",
    "        return self._last\n",
    "    def __repr__(self):\n",
    "        '''\n",
    "        arguments: self\n",
    "        returns: first and last name\n",
    "        \n",
    "        '''\n",
    "        return self._first + \" \" + self._last\n",
    "    def name_list(self, file):\n",
    "        '''\n",
    "        Arguments: file\n",
    "        Returns: list of Name objects\n",
    "        '''\n",
    "        names=[]\n",
    "        self._file=open(file, \"r\")\n",
    "        for line in self._file:\n",
    "            line=line.strip()\n",
    "            line=line.split(\" \")\n",
    "            line_list=[]\n",
    "            line_list.append(line[0]) \n",
    "            line_list.append(line[1])\n",
    "            \n",
    "            names.append(Name(line_list[0],line_list[1]))\n",
    "        return names\n",
    "    def print_names(self,lst,order, initial=False):\n",
    "        '''\n",
    "        Arguments: list, order, initial(optional)\n",
    "        prints first name or last name sorted alphabetically\n",
    "        If initial=True, print initial instead of name\n",
    "        \n",
    "        \n",
    "        '''\n",
    "        Mylst=self.name_list(lst)\n",
    "        if order == \"first\":\n",
    "            Mylst.sort(key=Name.first)\n",
    "            if initial == True:\n",
    "                for names in Mylst:\n",
    "                    print(\"{}. {}\".format(names.first()[0],names.last()))\n",
    "            elif initial==False: \n",
    "                for names in Mylst:\n",
    "                    print(\"{}, {}\".format(names.first(),names.last()))\n",
    "            \n",
    "        elif order == \"last\":\n",
    "            Mylst.sort(key=Name.last)\n",
    "            if initial == True:\n",
    "                for names in Mylst:\n",
    "                    print(\"{}. {}\".format(names.first(),names.last()[0]))   \n",
    "            elif initial == False: \n",
    "                for names in Mylst:\n",
    "                    print(\"{}, {}\".format(names.last(), names.first()))"
   ]
  },
  {
   "cell_type": "markdown",
   "metadata": {},
   "source": [
    "##### <span style=\"color:red\">Tests:</span>"
   ]
  },
  {
   "cell_type": "code",
   "execution_count": 107,
   "metadata": {
    "collapsed": false
   },
   "outputs": [
    {
     "data": {
      "text/plain": [
       "'flint'"
      ]
     },
     "execution_count": 107,
     "metadata": {},
     "output_type": "execute_result"
    }
   ],
   "source": [
    "# Write Python code that tests your class here (add more cells as needed)\n",
    "X = Name(\"fred\",\"flint\")\n",
    "X.first()\n",
    "X.last()"
   ]
  },
  {
   "cell_type": "markdown",
   "metadata": {},
   "source": [
    "###  <span style=\"color:teal\">2. &nbsp; The `name_list` Function</span>"
   ]
  },
  {
   "cell_type": "markdown",
   "metadata": {},
   "source": [
    "Write a function called `name_list` that takes the name of a text file as an argument and returns a list of Name objects, one for each line from the file."
   ]
  },
  {
   "cell_type": "markdown",
   "metadata": {},
   "source": [
    "This example shows what to expect when the function is working:\n",
    "<pre>\n",
    ">>> lst = name_list('gr.txt')\n",
    "\n",
    ">>> len(lst)\n",
    "34\n",
    "\n",
    ">>> lst[0]\n",
    "Osbie Feel\n",
    "\n",
    ">>> lst[1]\n",
    "Tyrone Slothrop\n",
    "</pre>"
   ]
  },
  {
   "cell_type": "markdown",
   "metadata": {},
   "source": [
    "##### <span style=\"color:red\">Documentation:</span>"
   ]
  },
  {
   "cell_type": "markdown",
   "metadata": {},
   "source": [
    "=== Describe your function in this markdown cell === \n",
    ">Reads a file containing names.  Returns list of names"
   ]
  },
  {
   "cell_type": "markdown",
   "metadata": {},
   "source": [
    "##### <span style=\"color:red\">Code:</span>"
   ]
  },
  {
   "cell_type": "code",
   "execution_count": 108,
   "metadata": {
    "collapsed": true
   },
   "outputs": [],
   "source": [
    "# Put your function de  \n",
    "def name_list(self, file):\n",
    "        names=[]\n",
    "        self._file=open(file, \"r\")\n",
    "        for line in self._file:\n",
    "            line=line.strip()\n",
    "            line=line.split(\" \")\n",
    "            line_list=[] \n",
    "            line_list.append(line[0]) \n",
    "            line_list.append(line[1])\n",
    "            names.append(Name(line_list[0],line_list[1]))\n",
    "        return names"
   ]
  },
  {
   "cell_type": "markdown",
   "metadata": {},
   "source": [
    "##### <span style=\"color:red\">Tests:</span>"
   ]
  },
  {
   "cell_type": "code",
   "execution_count": 2,
   "metadata": {
    "collapsed": false
   },
   "outputs": [
    {
     "name": "stdout",
     "output_type": "stream",
     "text": [
      "['Osbie', 'Feel']\n",
      "['Tyrone', 'Slothrop']\n",
      "['Josef', 'Ombindi']\n",
      "['Kevin', 'Spectro']\n",
      "['Milton', 'Gloaming']\n",
      "['Teddy', 'Bland']\n",
      "['Blodgett', 'Waxwing']\n",
      "['William', 'Slothrop']\n",
      "['Ian', 'Scuffling']\n",
      "['Blatherard', 'Osmo']\n",
      "['Joaquin', 'Stick']\n",
      "['Kurt', 'Mondaugen']\n",
      "['Edwin', 'Treacle']\n",
      "['Katje', 'Borgesius']\n",
      "['Austin', 'Quoad']\n",
      "['Webley', 'Silvernail']\n",
      "['Geoffrey', 'Prentice']\n",
      "['Lucifer', 'Amp']\n",
      "['Scorpia', 'Mossmoon']\n",
      "['Sammy', 'Hilbert-Spaess']\n",
      "['Duane', 'Marvy']\n",
      "['Hilary', 'Bounce']\n",
      "['Nora', 'Dodson-Truck']\n",
      "['Roger', 'Mexico']\n",
      "['Lazlo', 'Jamf']\n",
      "['Variable', 'Slothrop']\n",
      "['Clive', 'Mossmoon']\n",
      "['Oliver', 'Mucker-Maffick']\n",
      "['Carroll', 'Eventyr']\n",
      "['Dominus', 'Blicero']\n",
      "['Ernest', 'Pudding']\n",
      "['Lyle', 'Bland']\n",
      "['Dumpster', 'Villard']\n",
      "['Constant', 'Slothrop']\n"
     ]
    },
    {
     "data": {
      "text/plain": [
       "[Osbie Feel,\n",
       " Tyrone Slothrop,\n",
       " Josef Ombindi,\n",
       " Kevin Spectro,\n",
       " Milton Gloaming,\n",
       " Teddy Bland,\n",
       " Blodgett Waxwing,\n",
       " William Slothrop,\n",
       " Ian Scuffling,\n",
       " Blatherard Osmo,\n",
       " Joaquin Stick,\n",
       " Kurt Mondaugen,\n",
       " Edwin Treacle,\n",
       " Katje Borgesius,\n",
       " Austin Quoad,\n",
       " Webley Silvernail,\n",
       " Geoffrey Prentice,\n",
       " Lucifer Amp,\n",
       " Scorpia Mossmoon,\n",
       " Sammy Hilbert-Spaess,\n",
       " Duane Marvy,\n",
       " Hilary Bounce,\n",
       " Nora Dodson-Truck,\n",
       " Roger Mexico,\n",
       " Lazlo Jamf,\n",
       " Variable Slothrop,\n",
       " Clive Mossmoon,\n",
       " Oliver Mucker-Maffick,\n",
       " Carroll Eventyr,\n",
       " Dominus Blicero,\n",
       " Ernest Pudding,\n",
       " Lyle Bland,\n",
       " Dumpster Villard,\n",
       " Constant Slothrop]"
      ]
     },
     "execution_count": 2,
     "metadata": {},
     "output_type": "execute_result"
    }
   ],
   "source": [
    "# Write Python code that tests your function here (add more cells as needed)\n",
    "X = Name(\"mx\", \"oeutnhu\")\n",
    "X.name_list(\"gr.txt\")"
   ]
  },
  {
   "cell_type": "markdown",
   "metadata": {},
   "source": [
    "### <span style=\"color:teal\">3. &nbsp; The `print_names` Function</span>"
   ]
  },
  {
   "cell_type": "markdown",
   "metadata": {},
   "source": [
    "Write a function called `print_names` that will be passed a list of Name objects and a string that specifies the output format."
   ]
  },
  {
   "cell_type": "markdown",
   "metadata": {},
   "source": [
    "For example, using the list named `lst` created above:\n",
    "<pre>\n",
    ">>> print_names(lst, 'last')\n",
    "Amp, Lucifer\n",
    "Bland, Teddy\n",
    "Bland, Lyle\n",
    "...\n",
    "\n",
    ">>> print_names(lst, 'first')\n",
    "Austin Quoad\n",
    "Blatherard Osmo\n",
    "Blodgett Waxwing\n",
    "</pre>"
   ]
  },
  {
   "cell_type": "markdown",
   "metadata": {},
   "source": [
    "To print the names in the right order you are going to need to sort the list of Name objects.  The lecture notes for this week show how to pass the name of a method to Python's `sort` method."
   ]
  },
  {
   "cell_type": "markdown",
   "metadata": {},
   "source": [
    "**Hint:** Use the `format` method to create the string to print.  Define a \"template\" that specifies which order to print the names, either\n",
    "<pre>\n",
    "fmt = '{last}, {first}'\n",
    "</pre>\n",
    "or\n",
    "<pre>\n",
    "fmt = '{first} {last}'\n",
    "</pre>\n",
    "Then use `format` to create the output string:\n",
    "<pre>\n",
    "fmt.format(first = ..., last = ...)\n",
    "</pre>\n",
    "where the `...` are expressions that get the first and last names from the Name object being printed."
   ]
  },
  {
   "cell_type": "markdown",
   "metadata": {},
   "source": [
    "##### <span style=\"color:red\">Documentation:</span>"
   ]
  },
  {
   "cell_type": "markdown",
   "metadata": {},
   "source": [
    "=== Describe your function in this markdown cell ===\n",
    "> reads file and prints sorted name list based on order operator"
   ]
  },
  {
   "cell_type": "markdown",
   "metadata": {},
   "source": [
    "##### <span style=\"color:red\">Code:</span>"
   ]
  },
  {
   "cell_type": "code",
   "execution_count": 12,
   "metadata": {
    "collapsed": false
   },
   "outputs": [],
   "source": [
    " def print_names(self,lst,order, initial=False):\n",
    "        '''\n",
    "        Arguments: list, order, initial(optional)\n",
    "        prints first name or last name sorted alphabetically\n",
    "        If initial=True, print initial instead of name\n",
    "        \n",
    "        \n",
    "        '''\n",
    "        Mylst=self.name_list(lst)\n",
    "        if order == \"first\":\n",
    "            Mylst.sort(key=Name.first)\n",
    "            if initial == True:\n",
    "                for names in Mylst:\n",
    "                    print(\"{}. {}\".format(names.first()[0],names.last()))\n",
    "            elif initial==False: \n",
    "                for names in Mylst:\n",
    "                    print(\"{}, {}\".format(names.first(),names.last()))\n",
    "            \n",
    "        elif order == \"last\":\n",
    "            Mylst.sort(key=Name.last)\n",
    "            if initial == True:\n",
    "                for names in Mylst:\n",
    "                    print(\"{}, {}.\".format(names.first(),names.last()[0]))   \n",
    "            elif initial == False: \n",
    "                for names in Mylst:\n",
    "                    print(\"{}, {}\".format(names.last(), names.first()))"
   ]
  },
  {
   "cell_type": "markdown",
   "metadata": {},
   "source": [
    "##### <span style=\"color:red\">Tests:</span>"
   ]
  },
  {
   "cell_type": "code",
   "execution_count": 21,
   "metadata": {
    "collapsed": false
   },
   "outputs": [
    {
     "name": "stdout",
     "output_type": "stream",
     "text": [
      "Lucifer. A\n",
      "Teddy. B\n",
      "Lyle. B\n",
      "Dominus. B\n",
      "Katje. B\n",
      "Hilary. B\n",
      "Nora. D\n",
      "Carroll. E\n",
      "Osbie. F\n",
      "Milton. G\n",
      "Sammy. H\n",
      "Lazlo. J\n",
      "Duane. M\n",
      "Roger. M\n",
      "Kurt. M\n",
      "Scorpia. M\n",
      "Clive. M\n",
      "Oliver. M\n",
      "Josef. O\n",
      "Blatherard. O\n",
      "Geoffrey. P\n",
      "Ernest. P\n",
      "Austin. Q\n",
      "Ian. S\n",
      "Webley. S\n",
      "Tyrone. S\n",
      "William. S\n",
      "Variable. S\n",
      "Constant. S\n",
      "Kevin. S\n",
      "Joaquin. S\n",
      "Edwin. T\n",
      "Dumpster. V\n",
      "Blodgett. W\n"
     ]
    }
   ],
   "source": [
    "# Write Python code that tests your program here (add more cells as needed)\n",
    "X=Name(\"eou\",\"ueo\")\n",
    "X.print_names(\"gr.txt\", \"last\", initial=True)"
   ]
  },
  {
   "cell_type": "markdown",
   "metadata": {
    "collapsed": true
   },
   "source": [
    "### <span style=\"color:teal\">Extra Credit Ideas</span>"
   ]
  },
  {
   "cell_type": "markdown",
   "metadata": {},
   "source": [
    "If you want to earn extra credit points for this project try one of the extensions listed below (or feel free to invent other ways to extend the project).\n",
    "\n",
    "<span style=\"color:red; font-weight:bold;\">Important:</span>  To earn extra credit points make sure you fill in the following markup cell to explain what you did so the graders will look for your extensions when they grade your project:"
   ]
  },
  {
   "cell_type": "markdown",
   "metadata": {},
   "source": [
    "=== Describe any extra credit here ===\n",
    ">Print initials.  If initials value is true, print initial of order preference versus full name.  To enable, add argument 'initial=True' to function call"
   ]
  },
  {
   "cell_type": "markdown",
   "metadata": {},
   "source": [
    "#####  Print Initials"
   ]
  },
  {
   "cell_type": "markdown",
   "metadata": {},
   "source": [
    "Define your `print_names` function so it takes an optional third argument.  If `initials` is True, instead of printing a full first name print just the first initial and a period:\n",
    "<pre>\n",
    ">>> print_names(lst, 'first', initials=True)\n",
    "A. Quoad\n",
    "B. Osmo\n",
    "B. Waxwing\n",
    "...\n",
    "\n",
    ">>> print_names(lst, 'last', initials=True)\n",
    "Amp, L.\n",
    "Bland, L.\n",
    "Bland, T.\n",
    "...\n",
    "</pre>"
   ]
  },
  {
   "cell_type": "markdown",
   "metadata": {},
   "source": [
    "##### More Accurate Sorting"
   ]
  },
  {
   "cell_type": "markdown",
   "metadata": {},
   "source": [
    "Define an `__lt__` method for the Name class so that when two names are compared the sort order is correct when two people have the same last name. For example, “Tyrone Slothrop” should appear after “Constant Slothrop” when the list is sorted by last name. To test this method, just call `sort` without specifying the `key` argument."
   ]
  }
 ],
 "metadata": {
  "kernelspec": {
   "display_name": "Python 3",
   "language": "python",
   "name": "python3"
  },
  "language_info": {
   "codemirror_mode": {
    "name": "ipython",
    "version": 3
   },
   "file_extension": ".py",
   "mimetype": "text/x-python",
   "name": "python",
   "nbconvert_exporter": "python",
   "pygments_lexer": "ipython3",
   "version": "3.4.0"
  }
 },
 "nbformat": 4,
 "nbformat_minor": 0
}
