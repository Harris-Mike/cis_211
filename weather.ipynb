{
 "cells": [
  {
   "cell_type": "markdown",
   "metadata": {},
   "source": [
    "##### <span style=\"color:red\">Name:</span>"
   ]
  },
  {
   "cell_type": "markdown",
   "metadata": {},
   "source": [
    "=== *Edit this code cell to include your name and DuckID* ==="
   ]
  },
  {
   "cell_type": "markdown",
   "metadata": {},
   "source": [
    "# <span style=\"color:teal;\">CIS 211 Project 8:  &nbsp; Weather Service</span>"
   ]
  },
  {
   "cell_type": "markdown",
   "metadata": {},
   "source": [
    "##### Due 11:00 P.M. Friday June 5"
   ]
  },
  {
   "cell_type": "markdown",
   "metadata": {},
   "source": [
    "##### Reading:  Perkovic Sec 11.1 -- 11.2"
   ]
  },
  {
   "cell_type": "markdown",
   "metadata": {},
   "source": [
    "The project this week uses \"REST\" style web services to create a weather report. "
   ]
  },
  {
   "cell_type": "markdown",
   "metadata": {},
   "source": [
    "### `weather` "
   ]
  },
  {
   "cell_type": "markdown",
   "metadata": {},
   "source": [
    "Below you will find the defintion of a function named `weather` that prints a weather forecast for a specified location.\n",
    "\n",
    "There are three different ways to call the function.  One is to pass a zip code:\n",
    "<pre>\n",
    "   weather(zip = 97405)\n",
    "</pre>\n",
    "\n",
    "A second way to print a forecast is to pass an address to the function:\n",
    "<pre>\n",
    "   weather(address = '1477 E 13th Ave, Eugene, OR')\n",
    "</pre>\n",
    "\n",
    "The third option is to pass latitude and longitude coordinates:\n",
    "<pre>\n",
    "   weather(lat = 44.0, long = -123.0)\n",
    "</pre>\n",
    "\n",
    "In each case the result will be the same, the current weather forecast for the specified location:\n",
    "<pre>\n",
    "   Showers likely and possibly a thunderstorm.  Cloudy, with a high near 63. Calm wind becoming \n",
    "   west southwest 5 to 7 mph in the afternoon.  Chance of precipitation is 70%. New rainfall \n",
    "   amounts between a tenth and quarter of an inch, except higher amounts possible in thunderstorms. \n",
    "</pre>\n",
    "\n",
    "**Note:** The lecture notes for this week will explain how to write a function definition that allows users to call the function using keywords and values.\n",
    "\n",
    "You have three jobs this week:\n",
    "1. Write a helper function called `get_forecast` that will use a web service provided by NOAA to fetch the current weather forecast for a specified location.  \n",
    "1. Since the NOAA service only works if you pass it a latitude and longitude, you need to write a second helper function, called `get_coords`, will look up a latitude and longitude given a zip code or address.\n",
    "1. You need to test the top level `weather` function and explain how it handles errors."
   ]
  },
  {
   "cell_type": "markdown",
   "metadata": {},
   "source": [
    "### NOAA API "
   ]
  },
  {
   "cell_type": "markdown",
   "metadata": {},
   "source": [
    "A template for the URL for a web service provided by NOAA is\n",
    "<pre>\n",
    "http://forecast.weather.gov/MapClick.php?lat={}&lon={}&FcstType=json\n",
    "</pre>\n",
    "When numbers specifying latitude and longitude are substituted into this template the URL will return a JSON string with a complete forecst for that location.\n",
    "\n",
    "For example, this shell command will fetch a weather report for Eugene:\n",
    "<pre>\n",
    "   % curl 'http://forecast.weather.gov/MapClick.php?lat=44.0&lon=-123.0&FcstType=json'\n",
    "</pre>\n",
    "\n",
    "When the result is translated as a JSON object you will get a Python dictionary.  One of the items in the dictionary is called `data`, which is itself a dictionary.  Inside that dictionary is an item called `text`, which is a list of strings.  The weather prediction you want is the first string in that list.\n",
    "\n",
    "For example, if you save the result of the call to `json.loads` in a dictionary named `forecast`, this expression will get the string containing the prediction for the next few hours:\n",
    "<pre>\n",
    "forecast['data']['text'][0]\n",
    "</pre>"
   ]
  },
  {
   "cell_type": "code",
   "execution_count": null,
   "metadata": {
    "collapsed": true
   },
   "outputs": [],
   "source": []
  },
  {
   "cell_type": "markdown",
   "metadata": {},
   "source": [
    "### Geocoder API "
   ]
  },
  {
   "cell_type": "markdown",
   "metadata": {},
   "source": [
    "The NOAA service expects a location to be specified by its geographic coordinates (latitude and longitude).  If `weather` is called with a zip code or address we can use a service called a \"geocoder\" to look up the latitude and longitude.\n",
    "\n",
    "There are two APIs for this service.  Use the first one if you have a zip code, use the second if you have an address:\n",
    "<pre>\n",
    "'http://geocoder.us/service/json?zip={}'\n",
    "'http://geocoder.us/service/json?address={}&parse_address=1'\n",
    "</pre>\n",
    "\n",
    "For example, both of these shell commands return a JSON string containing the coordinates of the CS department:\n",
    "<pre>\n",
    "   % curl 'http://geocoder.us/service/json?zip=97403'\n",
    "   % curl 'http://geocoder.us/service/json?address=1477+E.+13th+Ave.+Eugene,+OR&parse+address=1'\n",
    "</pre>\n",
    "\n",
    "When this JSON string is converted into a Python object you will get a list (some calls may specifiy ambiguous addresses or multiple zip codes).  You can assume the first item is the one you want.  This item will be a dictionary, and the coordinates are in the `lat` and `long` components of this dictionary.  \n",
    "\n",
    "For example, if the result of the call to `json.loads` is saved in a list called `coords`, these expressions will look up the latitude and longitude of the specified location:\n",
    "<pre>\n",
    "coords[0]['lat']\n",
    "coords[0]['long']\n",
    "</pre>"
   ]
  },
  {
   "cell_type": "markdown",
   "metadata": {},
   "source": [
    "### Top Level Function "
   ]
  },
  {
   "cell_type": "markdown",
   "metadata": {},
   "source": [
    "The following code cell contains the `import` statements for the Python libraries needed by this project and the definition of the top level `weather` function."
   ]
  },
  {
   "cell_type": "code",
   "execution_count": 146,
   "metadata": {
    "collapsed": false
   },
   "outputs": [],
   "source": [
    "from urllib.request import urlopen\n",
    "from urllib.error import HTTPError\n",
    "import json\n",
    "\n",
    "\n",
    "def weather(**spec):\n",
    "    try:\n",
    "        if 'zip' in spec or 'address' in spec:\n",
    "            lat, long = get_location(**spec)\n",
    "        elif not ('lat' in spec and 'long' in spec):\n",
    "            raise Exception('specify zip, address, or latitude and longitude')\n",
    "        else:\n",
    "            lat, long = spec['lat'], spec['long']\n",
    "        print(get_forecast(lat, long))\n",
    "    except HTTPError:\n",
    "        print('Incomplete or incorrect specification', spec)\n",
    "    except Exception as err:\n",
    "        print(err)"
   ]
  },
  {
   "cell_type": "markdown",
   "metadata": {},
   "source": [
    "### Project 1:   `get_forecast` "
   ]
  },
  {
   "cell_type": "markdown",
   "metadata": {},
   "source": [
    "Write the function definition for the `get_forecast` helper function.  The funtion should take two integer arguments, the latitude and longitude, and return a single string, the weather forecast for that location."
   ]
  },
  {
   "cell_type": "markdown",
   "metadata": {},
   "source": [
    "##### <span style=\"color:red\">Description:</span>"
   ]
  },
  {
   "cell_type": "markdown",
   "metadata": {},
   "source": [
    "Uses input to concat string for open url to retrive json.  Decodes and returns forecast"
   ]
  },
  {
   "cell_type": "markdown",
   "metadata": {},
   "source": [
    "##### <span style=\"color:red\">Program:</span>"
   ]
  },
  {
   "cell_type": "code",
   "execution_count": 1,
   "metadata": {
    "collapsed": false
   },
   "outputs": [],
   "source": [
    "# == use this code cell to define get_forecast ==\n",
    "def get_forecast(lat, long):\n",
    "    '''\n",
    "    Arguments: lat long\n",
    "    returns: json forecast value\n",
    "    \n",
    "    '''\n",
    "    url= 'http://forecast.weather.gov/MapClick.php?lat='+str(lat)+'&lon='+str(long)+'&FcstType=json'\n",
    "    \n",
    "    response = urlopen(url)\n",
    "    data = response.read()\n",
    "    r=json.loads(data.decode('utf8'))\n",
    "    return r['data']['text'][0]"
   ]
  },
  {
   "cell_type": "markdown",
   "metadata": {},
   "source": [
    "##### <span style=\"color:red\">Tests:</span>"
   ]
  },
  {
   "cell_type": "code",
   "execution_count": 95,
   "metadata": {
    "collapsed": false
   },
   "outputs": [
    {
     "name": "stdout",
     "output_type": "stream",
     "text": [
      "A 50 percent chance of showers, mainly before midnight.  Cloudy, with a low around 50. West wind 3 to 7 mph. \n"
     ]
    }
   ],
   "source": [
    "# == use one or more code cells to test get_forecast ==\n",
    "get_forecast(44.0,-123.0)"
   ]
  },
  {
   "cell_type": "markdown",
   "metadata": {},
   "source": [
    "### Project 2:  `get_location` "
   ]
  },
  {
   "cell_type": "markdown",
   "metadata": {},
   "source": [
    "Write the function definition for the `get_location` helper function.  This function should allow users to either pass a zip code or an address, and the return value should be a pair of numbers corresponding to the latitude and longitude of the specified location.\n",
    "\n",
    "**Note** This week's lecture notes will explain how to write a function that can be passed keyword arguments.  The top level `weather` function is an example -- this function can be passed arguments named `zip`, `address`, or `lat` and `lon`.\n"
   ]
  },
  {
   "cell_type": "markdown",
   "metadata": {},
   "source": [
    "##### <span style=\"color:red\">Description:</span>"
   ]
  },
  {
   "cell_type": "markdown",
   "metadata": {},
   "source": [
    "Uses keyword argument.  Checks if zip or address is used.  Uses appropriate url for geocoder. Returns lat long"
   ]
  },
  {
   "cell_type": "markdown",
   "metadata": {},
   "source": [
    "##### <span style=\"color:red\">Program:</span>"
   ]
  },
  {
   "cell_type": "code",
   "execution_count": 2,
   "metadata": {
    "collapsed": false
   },
   "outputs": [],
   "source": [
    "# == use this code cell to define get_location ==\n",
    "def get_location(**spec):\n",
    "    '''\n",
    "    Arguments: keyword spec\n",
    "    returns: lat long\n",
    "    \n",
    "    '''\n",
    "    if 'zip' in spec:\n",
    "        url= 'http://geocoder.us/service/json?zip=' + str(spec['zip'])\n",
    "        response = urlopen(url)\n",
    "        data = response.read()\n",
    "        r=json.loads(data.decode('utf8'))\n",
    "        return r[0]['lat'],r[0]['long']\n",
    "    if 'address' in spec:\n",
    "        address=str(spec['address'])\n",
    "        address=address.replace(' ','+')\n",
    "  \n",
    "        url= 'http://geocoder.us/service/json?address=' + address + '&parse+address=1'\n",
    "        response = urlopen(url)\n",
    "        data = response.read()\n",
    "        r=json.loads(data.decode('utf8'))\n",
    "        return r[0]['lat'],r[0]['long']\n"
   ]
  },
  {
   "cell_type": "markdown",
   "metadata": {},
   "source": [
    "##### <span style=\"color:red\">Tests:</span>"
   ]
  },
  {
   "cell_type": "code",
   "execution_count": 152,
   "metadata": {
    "collapsed": false
   },
   "outputs": [
    {
     "data": {
      "text/plain": [
       "('44.06092', '-123.08275')"
      ]
     },
     "execution_count": 152,
     "metadata": {},
     "output_type": "execute_result"
    }
   ],
   "source": [
    "# == use one or more code cells to test get_location ==\n",
    "get_location(zip=97401)"
   ]
  },
  {
   "cell_type": "code",
   "execution_count": 153,
   "metadata": {
    "collapsed": false
   },
   "outputs": [
    {
     "name": "stdout",
     "output_type": "stream",
     "text": [
      "A 40 percent chance of showers, mainly before 11pm.  Cloudy, with a low around 52. West wind 3 to 7 mph. \n",
      "None\n"
     ]
    }
   ],
   "source": [
    "weather(address='1840 mill street eugene or 97401')"
   ]
  },
  {
   "cell_type": "markdown",
   "metadata": {},
   "source": [
    "### Project 3:  Test the `weather` Function "
   ]
  },
  {
   "cell_type": "markdown",
   "metadata": {},
   "source": [
    "In the space below use one or more code cells to make calls to `weather`.  Note that if you pass `lat` and `long` as arguments you can call `weather` even if you have not yet implemented the `get_location` helper.\n",
    "\n",
    "Your tests should call `weather` with zip codes, addresses, and latitude/longitude.\n",
    "\n",
    "After the code cells, write a brief description of how the function handles errors.  What happens if you pass an illegal or unknown zip code?  If you don't pass any valid arguments?"
   ]
  }
 ],
 "metadata": {
  "kernelspec": {
   "display_name": "Python 3",
   "language": "python",
   "name": "python3"
  },
  "language_info": {
   "codemirror_mode": {
    "name": "ipython",
    "version": 3
   },
   "file_extension": ".py",
   "mimetype": "text/x-python",
   "name": "python",
   "nbconvert_exporter": "python",
   "pygments_lexer": "ipython3",
   "version": "3.4.0"
  }
 },
 "nbformat": 4,
 "nbformat_minor": 0
}
