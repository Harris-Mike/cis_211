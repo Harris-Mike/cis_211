{
 "cells": [
  {
   "cell_type": "markdown",
   "metadata": {},
   "source": [
    "# <span style=\"color:teal;\">CIS 211 Project 3:  Deck Class</span>"
   ]
  },
  {
   "cell_type": "markdown",
   "metadata": {},
   "source": [
    "##### Due 11:00 P.M. Tuesday April 21"
   ]
  },
  {
   "cell_type": "markdown",
   "metadata": {},
   "source": [
    "##### Reading:  Perkovic Sec 6.4--6.5 and 8.1--8.5"
   ]
  },
  {
   "cell_type": "markdown",
   "metadata": {},
   "source": [
    "### <span style=\"color:teal\">Setup</span>"
   ]
  },
  {
   "cell_type": "markdown",
   "metadata": {},
   "source": [
    "The project for this week looks at how to write classes that extend Python's builtin classes.  You will write the definition of a class named Deck that is a list of Card objects.\n",
    "\n",
    "As you work on the project you will need to make Card objects, which means you have to execute an `import` statement that defines the Card class so it can be used by the code in this notebook.\n",
    "\n",
    "There are two ways to create the file that contains the Card class:\n",
    "* run the notebook converter to export the code from the notebook you wrote for last week's class, and copy the exported Python code to the directory for this notebook\n",
    "* download a file named `Card.pyc` from Canvas and save the file in the same directory as this notebook\n",
    "\n",
    "The `Card.pyc` file will work on any operating system, but it assumes you have Python 3.4.\n",
    "\n",
    "After you have copied your Card class to the folder for this project execute this code cell:"
   ]
  },
  {
   "cell_type": "code",
   "execution_count": 133,
   "metadata": {
    "collapsed": false
   },
   "outputs": [],
   "source": [
    "from cards import *\n",
    "import random"
   ]
  },
  {
   "cell_type": "markdown",
   "metadata": {},
   "source": [
    "If the class is imported properly this expression should print a Card object:"
   ]
  },
  {
   "cell_type": "code",
   "execution_count": 3,
   "metadata": {
    "collapsed": false
   },
   "outputs": [
    {
     "data": {
      "text/plain": [
       "2♣"
      ]
     },
     "execution_count": 3,
     "metadata": {},
     "output_type": "execute_result"
    }
   ],
   "source": [
    "Card(0)"
   ]
  },
  {
   "cell_type": "markdown",
   "metadata": {},
   "source": [
    "###  <span style=\"color:teal\">1. &nbsp; Deck Class</span>"
   ]
  },
  {
   "cell_type": "markdown",
   "metadata": {},
   "source": [
    "Write the definition of a new class named Deck, where each instance of the class will be a list of 52 Card objects. When the constructor is called it should return a list of all 52 cards in order from 2♣ up through A♠.\n",
    "\n",
    "** Your class should be derived from Python's `list` class**.  See the lecture notes on the difference between \"is-a\" and \"has-a\".  Don't define a class that *has a list* as an attribute, define a class that *is a kind of list*.\n",
    "\n",
    "Define three methods for your class:\n",
    "* `shuffle()` should rearrange the cards into a new random permutation (you can use a function named `shuffle` defined in Python's `random` library; see p. 197 in the textbook for an example).\n",
    "* `deal(n)` should remove the first `n` cards from the deck and return them in a list\n",
    "* `restore(a)` should add the cards in list `a` to the end of the deck\n",
    "\n",
    "Here are some examples:\n",
    "<pre>\n",
    ">>> d = Deck()\n",
    ">>> len(d) \n",
    "52\n",
    "\n",
    ">>> d\n",
    "[2♣, 3♣, 4♣, ... Q♠, K♠, A♠]\n",
    "\n",
    ">>> d.shuffle()\n",
    ">>> d\n",
    "[Q♣, A♦, 7♦, 9♦, 8♦, 3♠, 8♠, ... 5♣, 9♣, K♦]\n",
    "\n",
    ">>> h = d.deal(5) \n",
    ">>> h\n",
    "[Q♣, A♦, 7♦, 9♦, 8♦]\n",
    "\n",
    ">>> d\n",
    "[3♠, 8♠, ... 5♣, 9♣, K♦]\n",
    "\n",
    ">>> len(d) \n",
    "47\n",
    "\n",
    ">>> d.restore(h)\n",
    ">>> d\n",
    "[3♠, 8♠, ... 9♣, K♦, Q♣, A♦, 7♦, 9♦, 8♦]\n",
    "\n",
    ">>> len(d)\n",
    "52\n",
    "\n",
    ">>> d.sort()\n",
    ">>> d\n",
    "[2♣, 3♣, 4♣, ... Q♠, K♠, A♠]\n",
    "</pre>"
   ]
  },
  {
   "cell_type": "markdown",
   "metadata": {},
   "source": [
    "<span style=\"color:blue\">Note:</span> &nbsp; Make sure you understand why the last expression above worked. Why are you able to sort a deck of cards even though you did not define a sort method in your class?"
   ]
  },
  {
   "cell_type": "markdown",
   "metadata": {},
   "source": [
    "##### <span style=\"color:red\">Documentation:</span>"
   ]
  },
  {
   "cell_type": "markdown",
   "metadata": {},
   "source": [
    "=== Describe your class in this markdown cell ===\n",
    ">>  '''\n",
    "    Card Class.  Inherits from Card class and List\n",
    "    Functions:\n",
    "    init\n",
    "    repr\n",
    "    shuffle\n",
    "    deal\n",
    "    restore\n",
    "    Is a list of 52 Card objects\n",
    "    '''"
   ]
  },
  {
   "cell_type": "markdown",
   "metadata": {},
   "source": [
    "##### <span style=\"color:red\">Code:</span>"
   ]
  },
  {
   "cell_type": "code",
   "execution_count": 1,
   "metadata": {
    "collapsed": false
   },
   "outputs": [],
   "source": [
    "# Put your class definition in this code cell\n",
    "\n",
    "\n",
    "class Deck(list):\n",
    "    '''\n",
    "    Card Class.  Inherits from Card class and List\n",
    "    Functions:\n",
    "    init\n",
    "    repr\n",
    "    shuffle\n",
    "    deal\n",
    "    restore\n",
    "    Is a list of 52 card objects\n",
    "    '''\n",
    "    \n",
    "    \n",
    "    def __init__(self):\n",
    "        '''\n",
    "        Initialize a list of Card objects\n",
    "        \n",
    "        '''\n",
    "        list.__init__(self)\n",
    "        for i in range(52):\n",
    "            self.append(Card(i))\n",
    "\n",
    "    def __repr__(self):\n",
    "        '''\n",
    "        output array of card objects\n",
    "        \n",
    "        '''\n",
    "        mylist=[]\n",
    "        for i in self:\n",
    "            if not isinstance(i, Card):\n",
    "                raise Exception(\"{} {}. Index postition: {}--Please remove from card deck\".format(\"invalid card: \",i,self.index(i)))\n",
    "                self.remove(i)\n",
    "            mylist.append(i)\n",
    "        return str(mylist)\n",
    "    def shuffle(self):\n",
    "        '''\n",
    "        \n",
    "        Shuffles card list\n",
    "        \n",
    "        '''\n",
    "        random.shuffle(self)\n",
    "    def deal(self,num):\n",
    "        '''\n",
    "        Removes first n cards based on argument\n",
    "        \n",
    "        \n",
    "        '''\n",
    "        dealt_Hand=[]\n",
    "        for i in range(num):\n",
    "            dealt_Hand.append(self[i])\n",
    "            self.remove(self[i])\n",
    "        return dealt_Hand\n",
    "    def restore(self,hand):\n",
    "        '''\n",
    "        Returns hand to end of Card deck list\n",
    "        '''\n",
    "        \n",
    "        for card in hand:\n",
    "            self.append(card)"
   ]
  },
  {
   "cell_type": "markdown",
   "metadata": {},
   "source": [
    "##### <span style=\"color:red\">Tests:</span>"
   ]
  },
  {
   "cell_type": "code",
   "execution_count": 281,
   "metadata": {
    "collapsed": false
   },
   "outputs": [
    {
     "ename": "Exception",
     "evalue": "invalid card:  454htn. Index postition: 0--Please remove from card deck",
     "output_type": "error",
     "traceback": [
      "\u001b[1;31m---------------------------------------------------------------------------\u001b[0m",
      "\u001b[1;31mException\u001b[0m                                 Traceback (most recent call last)",
      "\u001b[1;32m/usr/local/lib/python3.4/dist-packages/IPython/core/formatters.py\u001b[0m in \u001b[0;36m__call__\u001b[1;34m(self, obj)\u001b[0m\n\u001b[0;32m    693\u001b[0m                 \u001b[0mtype_pprinters\u001b[0m\u001b[1;33m=\u001b[0m\u001b[0mself\u001b[0m\u001b[1;33m.\u001b[0m\u001b[0mtype_printers\u001b[0m\u001b[1;33m,\u001b[0m\u001b[1;33m\u001b[0m\u001b[0m\n\u001b[0;32m    694\u001b[0m                 deferred_pprinters=self.deferred_printers)\n\u001b[1;32m--> 695\u001b[1;33m             \u001b[0mprinter\u001b[0m\u001b[1;33m.\u001b[0m\u001b[0mpretty\u001b[0m\u001b[1;33m(\u001b[0m\u001b[0mobj\u001b[0m\u001b[1;33m)\u001b[0m\u001b[1;33m\u001b[0m\u001b[0m\n\u001b[0m\u001b[0;32m    696\u001b[0m             \u001b[0mprinter\u001b[0m\u001b[1;33m.\u001b[0m\u001b[0mflush\u001b[0m\u001b[1;33m(\u001b[0m\u001b[1;33m)\u001b[0m\u001b[1;33m\u001b[0m\u001b[0m\n\u001b[0;32m    697\u001b[0m             \u001b[1;32mreturn\u001b[0m \u001b[0mstream\u001b[0m\u001b[1;33m.\u001b[0m\u001b[0mgetvalue\u001b[0m\u001b[1;33m(\u001b[0m\u001b[1;33m)\u001b[0m\u001b[1;33m\u001b[0m\u001b[0m\n",
      "\u001b[1;32m/usr/local/lib/python3.4/dist-packages/IPython/lib/pretty.py\u001b[0m in \u001b[0;36mpretty\u001b[1;34m(self, obj)\u001b[0m\n\u001b[0;32m    384\u001b[0m                 \u001b[1;32mif\u001b[0m \u001b[0mcls\u001b[0m \u001b[1;32min\u001b[0m \u001b[0mself\u001b[0m\u001b[1;33m.\u001b[0m\u001b[0mtype_pprinters\u001b[0m\u001b[1;33m:\u001b[0m\u001b[1;33m\u001b[0m\u001b[0m\n\u001b[0;32m    385\u001b[0m                     \u001b[1;31m# printer registered in self.type_pprinters\u001b[0m\u001b[1;33m\u001b[0m\u001b[1;33m\u001b[0m\u001b[0m\n\u001b[1;32m--> 386\u001b[1;33m                     \u001b[1;32mreturn\u001b[0m \u001b[0mself\u001b[0m\u001b[1;33m.\u001b[0m\u001b[0mtype_pprinters\u001b[0m\u001b[1;33m[\u001b[0m\u001b[0mcls\u001b[0m\u001b[1;33m]\u001b[0m\u001b[1;33m(\u001b[0m\u001b[0mobj\u001b[0m\u001b[1;33m,\u001b[0m \u001b[0mself\u001b[0m\u001b[1;33m,\u001b[0m \u001b[0mcycle\u001b[0m\u001b[1;33m)\u001b[0m\u001b[1;33m\u001b[0m\u001b[0m\n\u001b[0m\u001b[0;32m    387\u001b[0m                 \u001b[1;32melse\u001b[0m\u001b[1;33m:\u001b[0m\u001b[1;33m\u001b[0m\u001b[0m\n\u001b[0;32m    388\u001b[0m                     \u001b[1;31m# deferred printer\u001b[0m\u001b[1;33m\u001b[0m\u001b[1;33m\u001b[0m\u001b[0m\n",
      "\u001b[1;32m/usr/local/lib/python3.4/dist-packages/IPython/lib/pretty.py\u001b[0m in \u001b[0;36m_repr_pprint\u001b[1;34m(obj, p, cycle)\u001b[0m\n\u001b[0;32m    701\u001b[0m     \u001b[1;34m\"\"\"A pprint that just redirects to the normal repr function.\"\"\"\u001b[0m\u001b[1;33m\u001b[0m\u001b[0m\n\u001b[0;32m    702\u001b[0m     \u001b[1;31m# Find newlines and replace them with p.break_()\u001b[0m\u001b[1;33m\u001b[0m\u001b[1;33m\u001b[0m\u001b[0m\n\u001b[1;32m--> 703\u001b[1;33m     \u001b[0moutput\u001b[0m \u001b[1;33m=\u001b[0m \u001b[0mrepr\u001b[0m\u001b[1;33m(\u001b[0m\u001b[0mobj\u001b[0m\u001b[1;33m)\u001b[0m\u001b[1;33m\u001b[0m\u001b[0m\n\u001b[0m\u001b[0;32m    704\u001b[0m     \u001b[1;32mfor\u001b[0m \u001b[0midx\u001b[0m\u001b[1;33m,\u001b[0m\u001b[0moutput_line\u001b[0m \u001b[1;32min\u001b[0m \u001b[0menumerate\u001b[0m\u001b[1;33m(\u001b[0m\u001b[0moutput\u001b[0m\u001b[1;33m.\u001b[0m\u001b[0msplitlines\u001b[0m\u001b[1;33m(\u001b[0m\u001b[1;33m)\u001b[0m\u001b[1;33m)\u001b[0m\u001b[1;33m:\u001b[0m\u001b[1;33m\u001b[0m\u001b[0m\n\u001b[0;32m    705\u001b[0m         \u001b[1;32mif\u001b[0m \u001b[0midx\u001b[0m\u001b[1;33m:\u001b[0m\u001b[1;33m\u001b[0m\u001b[0m\n",
      "\u001b[1;32m<ipython-input-264-79860d3c8a88>\u001b[0m in \u001b[0;36m__repr__\u001b[1;34m(self)\u001b[0m\n\u001b[0;32m     32\u001b[0m         \u001b[1;32mfor\u001b[0m \u001b[0mi\u001b[0m \u001b[1;32min\u001b[0m \u001b[0mself\u001b[0m\u001b[1;33m:\u001b[0m\u001b[1;33m\u001b[0m\u001b[0m\n\u001b[0;32m     33\u001b[0m             \u001b[1;32mif\u001b[0m \u001b[1;32mnot\u001b[0m \u001b[0misinstance\u001b[0m\u001b[1;33m(\u001b[0m\u001b[0mi\u001b[0m\u001b[1;33m,\u001b[0m \u001b[0mCard\u001b[0m\u001b[1;33m)\u001b[0m\u001b[1;33m:\u001b[0m\u001b[1;33m\u001b[0m\u001b[0m\n\u001b[1;32m---> 34\u001b[1;33m                 \u001b[1;32mraise\u001b[0m \u001b[0mException\u001b[0m\u001b[1;33m(\u001b[0m\u001b[1;34m\"{} {}. Index postition: {}--Please remove from card deck\"\u001b[0m\u001b[1;33m.\u001b[0m\u001b[0mformat\u001b[0m\u001b[1;33m(\u001b[0m\u001b[1;34m\"invalid card: \"\u001b[0m\u001b[1;33m,\u001b[0m\u001b[0mi\u001b[0m\u001b[1;33m,\u001b[0m\u001b[0mself\u001b[0m\u001b[1;33m.\u001b[0m\u001b[0mindex\u001b[0m\u001b[1;33m(\u001b[0m\u001b[0mi\u001b[0m\u001b[1;33m)\u001b[0m\u001b[1;33m)\u001b[0m\u001b[1;33m)\u001b[0m\u001b[1;33m\u001b[0m\u001b[0m\n\u001b[0m\u001b[0;32m     35\u001b[0m                 \u001b[0mself\u001b[0m\u001b[1;33m.\u001b[0m\u001b[0mremove\u001b[0m\u001b[1;33m(\u001b[0m\u001b[0mi\u001b[0m\u001b[1;33m)\u001b[0m\u001b[1;33m\u001b[0m\u001b[0m\n\u001b[0;32m     36\u001b[0m             \u001b[0mmylist\u001b[0m\u001b[1;33m.\u001b[0m\u001b[0mappend\u001b[0m\u001b[1;33m(\u001b[0m\u001b[0mi\u001b[0m\u001b[1;33m)\u001b[0m\u001b[1;33m\u001b[0m\u001b[0m\n",
      "\u001b[1;31mException\u001b[0m: invalid card:  454htn. Index postition: 0--Please remove from card deck"
     ]
    }
   ],
   "source": [
    "# Write Python code that tests your Deck class here (add more cells as needed)\n",
    "d=Deck()\n",
    "d.insert(0,\"454htn\")\n",
    "d.deal"
   ]
  },
  {
   "cell_type": "code",
   "execution_count": null,
   "metadata": {
    "collapsed": true
   },
   "outputs": [],
   "source": []
  },
  {
   "cell_type": "markdown",
   "metadata": {},
   "source": [
    "###  <span style=\"color:teal\">2. &nbsp; PinochleDeck Class</span>"
   ]
  },
  {
   "cell_type": "markdown",
   "metadata": {},
   "source": [
    "Define a new class named PinochleDeck that has Deck as its base class. The game of Pinochle (pronounced \"pea knuckle\") uses only 9s and above, and there are two copies of each card. That means a Pinochle deck has 48 cards in all.  A new instance of your PinochleDeck class should be a sorted list of the 48 cards used in Pinochle. \n",
    "\n",
    "<pre>\n",
    ">>> d = PinochleDeck()\n",
    ">>> d\n",
    "[9♣, 9♣, 10♣, 10♣, ... Q♠, Q♠, K♠, K♠, A♠, A♠]\n",
    "\n",
    ">>> d.shuffle()\n",
    ">>> h = d.deal(12)\n",
    "\n",
    ">>> h.sort()\n",
    ">>> h\n",
    "[A♣, 9♦, 10♦, J♦, J♦, 9♥, A♥, A♥, 9♠, 10♠, K♠, A♠]\n",
    "</pre>"
   ]
  },
  {
   "cell_type": "markdown",
   "metadata": {},
   "source": [
    "The last example above uses the default sort order for Card objects, so the hand is sorted by suit, with clubs first, then diamonds, then hearts, and finally spades."
   ]
  },
  {
   "cell_type": "markdown",
   "metadata": {},
   "source": [
    "##### <span style=\"color:red\">Documentation:</span>"
   ]
  },
  {
   "cell_type": "markdown",
   "metadata": {},
   "source": [
    "=== Describe your class in this markdown cell ===\n",
    ">'''\n",
    "    PinochleDeck class.  Inherits from Deck Class and list\n",
    "    Is a list of 48 card objects rank 9-A each card appears twice\n",
    "    '''"
   ]
  },
  {
   "cell_type": "code",
   "execution_count": null,
   "metadata": {
    "collapsed": true
   },
   "outputs": [],
   "source": []
  },
  {
   "cell_type": "markdown",
   "metadata": {},
   "source": [
    "##### <span style=\"color:red\">Code:</span>"
   ]
  },
  {
   "cell_type": "code",
   "execution_count": 240,
   "metadata": {
    "collapsed": false
   },
   "outputs": [],
   "source": [
    "# Put your class definition in this code cell\n",
    "class PinochleDeck(Deck,list):\n",
    "    '''\n",
    "    PinochleDeck class.  Inherits from Deck Class and list\n",
    "    Is a list of 48 card objects rank 9-A each card appears twice\n",
    "    '''\n",
    "    def __init__(self):\n",
    "        '''\n",
    "        Creates a deck of 48 cardo 9-A each card appears twice\n",
    "        \n",
    "        '''\n",
    "        list.__init__(self)\n",
    "        deck=[ Card(i) for i in range(52) ]\n",
    "        for i in deck:\n",
    "            if i._num[3]>= 7:\n",
    "                self.append(i)\n",
    "                self.append(i)\n"
   ]
  },
  {
   "cell_type": "markdown",
   "metadata": {},
   "source": [
    "##### <span style=\"color:red\">Tests:</span>"
   ]
  },
  {
   "cell_type": "code",
   "execution_count": 243,
   "metadata": {
    "collapsed": false
   },
   "outputs": [
    {
     "data": {
      "text/plain": [
       "[9♣, 9♣, 10♣, 10♣, J♣, J♣, Q♣, Q♣, K♣, K♣, A♣, A♣, 9♦, 9♦, 10♦, 10♦, J♦, J♦, Q♦, Q♦, K♦, K♦, A♦, A♦, 9♥, 9♥, 10♥, 10♥, J♥, J♥, Q♥, Q♥, K♥, K♥, A♥, A♥, 9♠, 9♠, 10♠, 10♠, J♠, J♠, Q♠, Q♠, K♠, K♠, A♠, A♠]"
      ]
     },
     "execution_count": 243,
     "metadata": {},
     "output_type": "execute_result"
    }
   ],
   "source": [
    "# Write Python code that tests your PinochleDeck class here (add more cells as needed)x\n",
    "d=PinochleDeck()\n",
    "d"
   ]
  },
  {
   "cell_type": "markdown",
   "metadata": {
    "collapsed": true
   },
   "source": [
    "### <span style=\"color:teal\">Extra Credit Ideas</span>"
   ]
  },
  {
   "cell_type": "markdown",
   "metadata": {},
   "source": [
    "If you want to earn extra credit points for this project try one of the extensions listed below (or feel free to invent other ways to extend the project).\n",
    "\n",
    "<span style=\"color:red; font-weight:bold;\">Important:</span>  To earn extra credit points make sure you fill in the following markup cell to explain what you did so the graders will look for your extensions when they grade your project:"
   ]
  },
  {
   "cell_type": "markdown",
   "metadata": {},
   "source": [
    "=== Describe any extra credit here ===\n",
    "    > Created Exception error for repr method, raises error if object in array is not of type Card.\n",
    "    Output message :Invalid card: i index position n --Please remove from deck"
   ]
  },
  {
   "cell_type": "markdown",
   "metadata": {},
   "source": [
    "#####  Check for Invalid Methods"
   ]
  },
  {
   "cell_type": "markdown",
   "metadata": {},
   "source": [
    "Since the Deck class is a subclass of Python’s list class users can do anything to a Deck that they can do to a list, including some things they shouldn’t. For example, it’s easy to attach a string to the end of a deck of cards:\n",
    "<pre>\n",
    ">>> d\n",
    "[2♣, 3♣, 4♣, ... Q♠, K♠, A♠]\n",
    "\n",
    ">>> d.append('howdy')\n",
    ">>> len(d)\n",
    "53\n",
    "\n",
    ">>> d.shuffle()\n",
    ">>> d\n",
    "[5♣, 'howdy', 2♣, J♠, ... 8♥, J♣, Q♦]\n",
    "</pre>\n",
    "\n",
    "A function like `total` that expects a list of Card objects isn’t going to like that.\n",
    "Figure out what sorts of things you don’t want to happen with decks of cards and add code to your class definition that raises an error message when the method is invoked."
   ]
  },
  {
   "cell_type": "markdown",
   "metadata": {},
   "source": [
    "##### Check for Valid Cards"
   ]
  },
  {
   "cell_type": "markdown",
   "metadata": {},
   "source": [
    "Have the `restore` method check to make sure items being put back in the deck are Card objects.  Don't forget that BlackjackCard objects are a valid type of Card."
   ]
  },
  {
   "cell_type": "markdown",
   "metadata": {},
   "source": [
    "##### Permutation"
   ]
  },
  {
   "cell_type": "markdown",
   "metadata": {},
   "source": [
    "Write your own version of a function that makes a random permutation of a list and use it instead of random.shuffle (send e-mail to `conery@uoregon.edu` if you want some pointers to algorithms that make random permutations)."
   ]
  },
  {
   "cell_type": "markdown",
   "metadata": {},
   "source": [
    "##### Deal Multiple Hands"
   ]
  },
  {
   "cell_type": "markdown",
   "metadata": {},
   "source": [
    "Add a second argument to the `deal` method that specifies the number of hands to deal.  If the argument is not passed deal one hand.  If it is a number return a list of that many hands.  For example, `deal(5)` will return a list of 5 cards, as usual, but `deal(5,2)` will return 2 hands with 5 cards each."
   ]
  }
 ],
 "metadata": {
  "kernelspec": {
   "display_name": "Python 3",
   "language": "python",
   "name": "python3"
  },
  "language_info": {
   "codemirror_mode": {
    "name": "ipython",
    "version": 3
   },
   "file_extension": ".py",
   "mimetype": "text/x-python",
   "name": "python",
   "nbconvert_exporter": "python",
   "pygments_lexer": "ipython3",
   "version": "3.4.0"
  }
 },
 "nbformat": 4,
 "nbformat_minor": 0
}
