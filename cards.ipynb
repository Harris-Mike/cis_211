{
 "cells": [
  {
   "cell_type": "markdown",
   "metadata": {},
   "source": [
    "# <span style=\"color:teal;\">CIS 211 Project 2:  Card Class</span>"
   ]
  },
  {
   "cell_type": "markdown",
   "metadata": {},
   "source": [
    "##### Due 11:00 P.M. Tuesday April 14"
   ]
  },
  {
   "cell_type": "markdown",
   "metadata": {},
   "source": [
    "##### Reading:  Perkovic Sec 6.4--6.5 and 8.1--8.2"
   ]
  },
  {
   "cell_type": "markdown",
   "metadata": {},
   "source": [
    "The next project this term explores *inheritance*, one of the fundamental concepts of object-oriented programming."
   ]
  },
  {
   "cell_type": "markdown",
   "metadata": {},
   "source": [
    "###  <span style=\"color:teal\">1. &nbsp; Card Class</span>"
   ]
  },
  {
   "cell_type": "markdown",
   "metadata": {},
   "source": [
    "Write the definition of a new class named Card, where each instance of the class will be a single playing card.\n",
    "\n",
    "The constructor should take an integer id between 0 and 51 to specify which card to make. Cards 0 to 12 are clubs, 13 to 25 diamonds, 26 to 38 hearts, and 39 to 51 spades, as shown in this table:\n",
    "<table>\n",
    "  <tr>\n",
    "    <th width=\"50\"> &nbsp; </th>\n",
    "    <th width=\"35\">2</th>\n",
    "    <th width=\"35\">3</th>\n",
    "    <th width=\"35\">4</th>\n",
    "    <th width=\"35\">5</th>\n",
    "    <th width=\"35\">6</th>\n",
    "    <th width=\"35\">7</th>\n",
    "    <th width=\"35\">8</th>\n",
    "    <th width=\"35\">9</th>\n",
    "    <th width=\"35\">10</th>\n",
    "    <th width=\"35\">J</th>\n",
    "    <th width=\"35\">Q</th>\n",
    "    <th width=\"35\">K</th>\n",
    "    <th width=\"35\">A</th>\n",
    "  </tr>\n",
    "  <tr>\n",
    "    <th> ♣ </th>\n",
    "    <td>0</td>\n",
    "    <td>1</td>\n",
    "    <td>2</td>\n",
    "    <td>3</td>\n",
    "    <td>4</td>\n",
    "    <td>5</td>\n",
    "    <td>6</td>\n",
    "    <td>7</td>\n",
    "    <td>8</td>\n",
    "    <td>9</td>\n",
    "    <td>10</td>\n",
    "    <td>11</td>\n",
    "    <td>12</td>\n",
    "  </tr>\n",
    "  <tr>\n",
    "    <th> ♦ </th>\n",
    "    <td>13</td>\n",
    "    <td>14</td>\n",
    "    <td>15</td>\n",
    "    <td>16</td>\n",
    "    <td>17</td>\n",
    "    <td>18</td>\n",
    "    <td>19</td>\n",
    "    <td>20</td>\n",
    "    <td>21</td>\n",
    "    <td>22</td>\n",
    "    <td>23</td>\n",
    "    <td>24</td>\n",
    "    <td>25</td>\n",
    "  </tr>\n",
    "  <tr>\n",
    "    <th> ♥ </th>\n",
    "    <td>26</td>\n",
    "    <td>27</td>\n",
    "    <td>28</td>\n",
    "    <td>29</td>\n",
    "    <td>30</td>\n",
    "    <td>31</td>\n",
    "    <td>32</td>\n",
    "    <td>33</td>\n",
    "    <td>34</td>\n",
    "    <td>35</td>\n",
    "    <td>36</td>\n",
    "    <td>37</td>\n",
    "    <td>38</td>\n",
    "  </tr>\n",
    "  <tr>\n",
    "    <th> ♠ </th>\n",
    "    <td>39</td>\n",
    "    <td>40</td>\n",
    "    <td>41</td>\n",
    "    <td>42</td>\n",
    "    <td>43</td>\n",
    "    <td>44</td>\n",
    "    <td>45</td>\n",
    "    <td>46</td>\n",
    "    <td>47</td>\n",
    "    <td>48</td>\n",
    "    <td>49</td>\n",
    "    <td>50</td>\n",
    "    <td>51</td>\n",
    "  </tr>\n",
    "</table>"
   ]
  },
  {
   "cell_type": "markdown",
   "metadata": {},
   "source": [
    "The class should have three methods in addition to the constructor:\n",
    "* `rank()` should return a number between 0 and 12, where a 2 has rank 0 and an ace has rank 12\n",
    "* `suit()` should return the suit number, with clubs = 0, diamonds = 1, hearts = 2, and spades = 3\n",
    "* `points()` should return 4 if the card is an ace, 3 if it’s a king, 2 if it’s a queen, 1 if it’s a jack, and 0 otherwise\n",
    "\n",
    "You also need to define two special methods:\n",
    "* the `__repr__` method should return a string based on the card's rank and suit\n",
    "* the `__lt__` operator should compare cards according to their ids."
   ]
  },
  {
   "cell_type": "markdown",
   "metadata": {},
   "source": [
    "The string returned by `__lt__` should start with the card's name, as shown in the column labels in the table above.  For example, if the rank is 0 (first column) the card's name is `'2'`, and if the rank is 10 the card name is `Q`.  All the names are one-letter strings except for rank 8, which has the name `10`.\n",
    "\n",
    "Following the name of the card there should be a one-letter suit symbol.  Since we're using IPython you can simply copy and paste the symbols from the table above when your write your code that adds suit symbols, or you can use the following Unicode escapes:\n",
    "<pre>\n",
    "♣ = \\u2663    ♦ = \\u2666    ♥ = \\u2665    ♠ = \\u2660\n",
    "</pre>"
   ]
  },
  {
   "cell_type": "markdown",
   "metadata": {},
   "source": [
    "Here are some examples from an interactive Python session that show how to make and use a Card object:\n",
    "<pre>\n",
    ">>> x = Card(35)\n",
    ">>> x\n",
    "J♥\n",
    "\n",
    ">>> x.suit()\n",
    "2\n",
    "\n",
    ">>> x.rank()\n",
    "9\n",
    "\n",
    ">>> x.points()\n",
    "1\n",
    "</pre>"
   ]
  },
  {
   "cell_type": "markdown",
   "metadata": {},
   "source": [
    "<span style=\"color:blue\">Style Points:</span> &nbsp; When you write the `rank` and `suit` methods don't forget we have an aversion to long chains of `if-elif` statements."
   ]
  },
  {
   "cell_type": "markdown",
   "metadata": {},
   "source": [
    "##### <span style=\"color:red\">Documentation:</span>"
   ]
  },
  {
   "cell_type": "markdown",
   "metadata": {},
   "source": [
    "=== Describe your class in this markdown cell ===\n",
    "    >>>Card Class\n",
    "    >>>init:self, num)\n",
    "    >>>Functions: \n",
    "    >>>repr\n",
    "    >>>suit\n",
    "    >>>rank\n",
    "    >>>__lt__\n",
    "    >>points"
   ]
  },
  {
   "cell_type": "markdown",
   "metadata": {},
   "source": [
    "##### <span style=\"color:red\">Code:</span>"
   ]
  },
  {
   "cell_type": "code",
   "execution_count": 8,
   "metadata": {
    "collapsed": false
   },
   "outputs": [],
   "source": [
    "# Put your class definition in this code cell\n",
    "class Card:\n",
    "    '''\n",
    "    Card Class\n",
    "    init:self, num)\n",
    "    Functions: \n",
    "    repr\n",
    "    suit\n",
    "    rank\n",
    "    __lt__\n",
    "    points\n",
    "    \n",
    "    \n",
    "    \n",
    "    '''\n",
    "    # dict tuple guide:0=rank 1=suit in num (clubs = 0, diamonds = 1, hearts = 2, and spades = 3), 2=suit unicode, 3=rank in num value\n",
    "    test={2:0}\n",
    "    rank_dict={0:(2,0,'\\u2663',0),1:(3,0,'\\u2663',1),2:(4,0,'\\u2663',2),3:(5,0,'\\u2663',3),4:(6,0,'\\u2663',4),5:(7,0,'\\u2663',5),6:(8,0,'\\u2663',6),7:(9,0,'\\u2663',7),8:(10,0,'\\u2663',8),9:(\"J\",0,'\\u2663',9),10:(\"Q\",0,'\\u2663',10),11:(\"K\",0,'\\u2663',11),12:(\"A\",0,'\\u2663',12),13:(2,1,'\\u2666',0),14:(3,1,'\\u2666',1),15:(4,1,'\\u2666',2),16:(5,1,'\\u2666',3),17:(6,1,'\\u2666',4),18:(7,1,'\\u2666',5),19:(8,1,'\\u2666',6),20:(9,1,'\\u2666',7),21:(10,1,'\\u2666',8),22:(\"J\",1,'\\u2666',9),23:(\"Q\",1,'\\u2666',10),24:(\"K\",1,'\\u2666',11),25:(\"A\",1,'\\u2666',12),26:(2,2,'\\u2665',0),27:(3,2,'\\u2665',1),28:(4,2,'\\u2665',2),29:(5,2,'\\u2665',3),30:(6,2,'\\u2665',4),31:(7,2,'\\u2665',5),32:(8,2,'\\u2665',6),33:(9,2,'\\u2665',7),34:(10,2,'\\u2665',8),35:(\"J\",2,'\\u2665',9),36:(\"Q\",2,'\\u2665',10),37:(\"K\",2,'\\u2665',11),38:(\"A\",2,'\\u2665',12),39:(2,3,'\\u2660',0),40:(3,3,'\\u2660',1),41:(4,3,'\\u2660',2),42:(5,3,'\\u2660',3),43:(6,3,'\\u2660',4),44:(7,3,'\\u2660',5),45:(8,3,'\\u2660',6),46:(9,3,'\\u2660',7),47:(10,3,'\\u2660',8),48:(\"J\",3,'\\u2660',9),49:(\"Q\",3,'\\u2660',10),50:(\"K\",3,'\\u2660',11),51:(\"A\",3,'\\u2660',12)}\n",
    "    def __init__(self, num):\n",
    "        '''\n",
    "        arguments: self, num\n",
    "        return none\n",
    "        \n",
    "        '''\n",
    "        self._num=Card.rank_dict.get(num) \n",
    "    #def suit(self):\n",
    "    def __repr__ (self):\n",
    "        '''\n",
    "        Arguments: self\n",
    "        return: card rank, unicode character of suit\n",
    "        '''\n",
    "        return \"{}{}\".format(self._num[0],self._num[2])\n",
    "    def suit (self):\n",
    "        '''\n",
    "        arguments: self\n",
    "        return: suit rank 0-4\n",
    "        '''\n",
    "        return self._num[1]\n",
    "    def rank(self):\n",
    "        '''\n",
    "        arguments: self\n",
    "        return: value 0-12\n",
    "        '''\n",
    "        return self._num[3]\n",
    "    def __lt__(self, other):\n",
    "        '''\n",
    "        Arguments: self, other\n",
    "        Return boolean\n",
    "        '''\n",
    "        return self._num[3]<other._num[3]\n",
    "         \n",
    "        return self_rank<other._num[0]\n",
    "    def points (self):\n",
    "        '''\n",
    "        Arguments: self\n",
    "        return: value 0-4\n",
    "        \n",
    "        '''\n",
    "        if self._num[0]==\"A\":\n",
    "            return 4\n",
    "        if self._num[0]==\"K\":\n",
    "            return 3\n",
    "        if self._num[0]==\"Q\":\n",
    "            return 2\n",
    "        if self._num[0]==\"J\":\n",
    "            return 1\n",
    "        else:                      \n",
    "\n",
    "\n",
    "            return 0"
   ]
  },
  {
   "cell_type": "markdown",
   "metadata": {},
   "source": [
    "\n",
    "\n",
    "\n",
    "\n",
    "\n",
    "\n",
    "\n",
    "\n",
    "\n",
    "##### <span style=\"color:red\">Tests:</span>"
   ]
  },
  {
   "cell_type": "code",
   "execution_count": 21,
   "metadata": {
    "collapsed": false
   },
   "outputs": [
    {
     "data": {
      "text/plain": [
       "12"
      ]
     },
     "execution_count": 21,
     "metadata": {},
     "output_type": "execute_result"
    }
   ],
   "source": [
    "x=Card(12)\n",
    "x\n",
    "\n",
    "x.rank()"
   ]
  },
  {
   "cell_type": "markdown",
   "metadata": {},
   "source": [
    "After you implement your constructor you can execute the following expression, which uses list comprehension to make a complete deck of cards:"
   ]
  },
  {
   "cell_type": "code",
   "execution_count": 22,
   "metadata": {
    "collapsed": false
   },
   "outputs": [],
   "source": [
    "deck = [ Card(i) for i in range(52) ]"
   ]
  },
  {
   "cell_type": "markdown",
   "metadata": {},
   "source": [
    "Now you can print the deck to see if all the cards are there:"
   ]
  },
  {
   "cell_type": "code",
   "execution_count": 23,
   "metadata": {
    "collapsed": false
   },
   "outputs": [
    {
     "name": "stdout",
     "output_type": "stream",
     "text": [
      "[2♣, 3♣, 4♣, 5♣, 6♣, 7♣, 8♣, 9♣, 10♣, J♣, Q♣, K♣, A♣, 2♦, 3♦, 4♦, 5♦, 6♦, 7♦, 8♦, 9♦, 10♦, J♦, Q♦, K♦, A♦, 2♥, 3♥, 4♥, 5♥, 6♥, 7♥, 8♥, 9♥, 10♥, J♥, Q♥, K♥, A♥, 2♠, 3♠, 4♠, 5♠, 6♠, 7♠, 8♠, 9♠, 10♠, J♠, Q♠, K♠, A♠]\n"
     ]
    }
   ],
   "source": [
    "print(deck)"
   ]
  },
  {
   "cell_type": "markdown",
   "metadata": {},
   "source": [
    "Use the following code cell plus any additional cells you want to test the methods of your Card class:"
   ]
  },
  {
   "cell_type": "code",
   "execution_count": null,
   "metadata": {
    "collapsed": true
   },
   "outputs": [],
   "source": [
    "# Write Python code that tests your Card class here (add more cells as needed)"
   ]
  },
  {
   "cell_type": "markdown",
   "metadata": {},
   "source": [
    "###  <span style=\"color:teal\">2. &nbsp; BlackjackCard Class</span>"
   ]
  },
  {
   "cell_type": "markdown",
   "metadata": {},
   "source": [
    "Define a second new class called BlackjackCard. The new class should use Card as its base class. Overload the `points` method so that aces have 11 points, face cards (J, Q, K) have 10 points, and other cards have their natural value (10, 9, 8, *etc.* down to 2).\n",
    "\n",
    "You should also overload the `__lt__` operator so BlackjackCards are compared only by their rank, with aces highest, then kings, queens, *etc.*"
   ]
  },
  {
   "cell_type": "markdown",
   "metadata": {},
   "source": [
    "<pre>\n",
    ">>> y = BlackjackCard(38) \n",
    "\n",
    ">>> y\n",
    "A♥\n",
    "\n",
    ">>> y.points()\n",
    "11\n",
    "\n",
    ">>> z = BlackjackCard(39)\n",
    "\n",
    ">>> z\n",
    "2♠\n",
    "\n",
    ">>> z.points()\n",
    "2\n",
    "\n",
    ">>> y < z\n",
    "False\n",
    "</pre>"
   ]
  },
  {
   "cell_type": "markdown",
   "metadata": {},
   "source": [
    "<span style=\"color:blue\">Style Points:</span> &nbsp; Can you figure out how to have `__lt__` use the code you already wrote to compute the rank of a card?"
   ]
  },
  {
   "cell_type": "markdown",
   "metadata": {},
   "source": [
    "##### <span style=\"color:red\">Documentation:</span>"
   ]
  },
  {
   "cell_type": "markdown",
   "metadata": {},
   "source": [
    "=== Describe your class in this markdown cell ===\n",
    "  >>>\n",
    "  BlackjackCard Class, Card class inherited\n",
    "    redefined function: points (returns value 2-11)"
   ]
  },
  {
   "cell_type": "markdown",
   "metadata": {},
   "source": [
    "##### <span style=\"color:red\">Code:</span>"
   ]
  },
  {
   "cell_type": "code",
   "execution_count": 24,
   "metadata": {
    "collapsed": false
   },
   "outputs": [],
   "source": [
    "# Put your class definition in this code cell\n",
    "class BlackjackCard(Card):\n",
    "    '''\n",
    "    BlackjackCard Class, Card class inherited\n",
    "    redefined function: points (returns value 2-11)\n",
    "    \n",
    "    '''\n",
    "    def points(self):\n",
    "        '''\n",
    "        Arguments: self\n",
    "        return: value 2-11\n",
    "        \n",
    "        '''\n",
    "        if self._num[0]==\"A\":\n",
    "            return 11\n",
    "        if self._num[0]==\"Q\" or self._num[0]==\"J\" or self._num[0]==\"K\":\n",
    "            return 10\n",
    "        else:\n",
    "            return self._num[0]\n"
   ]
  },
  {
   "cell_type": "markdown",
   "metadata": {},
   "source": [
    "##### <span style=\"color:red\">Tests:</span>"
   ]
  },
  {
   "cell_type": "code",
   "execution_count": 25,
   "metadata": {
    "collapsed": false
   },
   "outputs": [
    {
     "name": "stdout",
     "output_type": "stream",
     "text": [
      "11 \n",
      " 10 \n",
      " 10 \n",
      " 10 9\n"
     ]
    }
   ],
   "source": [
    "A=BlackjackCard(12)\n",
    "K=BlackjackCard(11)\n",
    "Q=BlackjackCard(10)\n",
    "J=BlackjackCard(9)\n",
    "ten=BlackjackCard(7)\n",
    "A\n",
    "K\n",
    "Q\n",
    "J\n",
    "ten\n",
    "print(A.points(),'\\n',K.points(),'\\n',Q.points(),'\\n',J.points(),ten.points())"
   ]
  },
  {
   "cell_type": "markdown",
   "metadata": {},
   "source": [
    "After you implement the constructor for the new class, execute this expression to make a complete deck of blackjack cards:"
   ]
  },
  {
   "cell_type": "code",
   "execution_count": 26,
   "metadata": {
    "collapsed": false
   },
   "outputs": [],
   "source": [
    "bj_deck = [ BlackjackCard(i) for i in range(52) ]\n",
    "deck = [ Card(i) for i in range(52) ]"
   ]
  },
  {
   "cell_type": "markdown",
   "metadata": {},
   "source": [
    "Use the following code cell plus any additional cells you want to print the new deck (it should look exactly like the previous deck) and test the methods of your Card class:"
   ]
  },
  {
   "cell_type": "code",
   "execution_count": 27,
   "metadata": {
    "collapsed": false
   },
   "outputs": [
    {
     "name": "stdout",
     "output_type": "stream",
     "text": [
      "[10♥, 8♦]   [8♣, 4♥]\n"
     ]
    }
   ],
   "source": [
    "# Write Python code that tests your BlackjackCard class here (add more cells as needed)\n",
    "from random import sample\n",
    "bjhand = sample(bj_deck,2)\n",
    "hand=sample(deck,2)\n",
    "\n",
    "print(bjhand, \" \", hand)"
   ]
  },
  {
   "cell_type": "markdown",
   "metadata": {},
   "source": [
    "### <span style=\"color:teal\">3. &nbsp; The `total` Function</span>"
   ]
  },
  {
   "cell_type": "markdown",
   "metadata": {},
   "source": [
    "Write a function called `total` that will compute the sum of the number of points in a hand (a list of Card objects)."
   ]
  },
  {
   "cell_type": "markdown",
   "metadata": {},
   "source": [
    "To make a hand to test `total` use a function named `sample` from Python's `random` library.  This example assumes the list named `deck` contains 52 Card objects:\n",
    "<pre>\n",
    ">>> from random import sample\n",
    "\n",
    ">>> hand = sample(deck, 5)\n",
    ">>> hand\n",
    "[5♦, 3♦, K♠, J♠, 9♣]\n",
    "\n",
    ">>> total(hand)\n",
    "4\n",
    "</pre>"
   ]
  },
  {
   "cell_type": "markdown",
   "metadata": {},
   "source": [
    "In the example above the total is 4 because kings are worth 3 points and jacks are worth 1."
   ]
  },
  {
   "cell_type": "markdown",
   "metadata": {},
   "source": [
    "The same function should also be able to compute the total number of points in a hand made from BlackjackCard objects:\n",
    "<pre>\n",
    ">>> bj_hand = sample(bj_deck,3) \n",
    ">>> bj_hand\n",
    "[7♦, Q♦, 9♥]\n",
    "\n",
    ">>> total(bj_hand)\n",
    "26\n",
    "</pre>"
   ]
  },
  {
   "cell_type": "markdown",
   "metadata": {},
   "source": [
    "##### <span style=\"color:red\">Documentation:</span>"
   ]
  },
  {
   "cell_type": "markdown",
   "metadata": {},
   "source": [
    "=== Describe your function in this markdown cell ===\n",
    ">>>Arguments: list of Card or Blackjack cards based on deck selected\n",
    "    Returns: Total number of points in accordance to points function of which deck is used\n",
    "    "
   ]
  },
  {
   "cell_type": "markdown",
   "metadata": {},
   "source": [
    "##### <span style=\"color:red\">Code:</span>"
   ]
  },
  {
   "cell_type": "code",
   "execution_count": 28,
   "metadata": {
    "collapsed": false
   },
   "outputs": [],
   "source": [
    "# Put your function definition in this code cell\n",
    "def total(hand):\n",
    "    '''\n",
    "    Arguments: list of Card or Blackjack cards based on deck selected\n",
    "    Returns: Total number of points in accordance to points function of which deck is used\n",
    "    '''\n",
    "    total=0\n",
    "    for card in hand:\n",
    "        total+=card.points()\n",
    "    return total\n",
    "        "
   ]
  },
  {
   "cell_type": "markdown",
   "metadata": {},
   "source": [
    "##### <span style=\"color:red\">Tests:</span>"
   ]
  },
  {
   "cell_type": "code",
   "execution_count": 29,
   "metadata": {
    "collapsed": false
   },
   "outputs": [
    {
     "data": {
      "text/plain": [
       "18"
      ]
     },
     "execution_count": 29,
     "metadata": {},
     "output_type": "execute_result"
    }
   ],
   "source": [
    "# Write Python code that tests your function here (add more cells as needed)\n",
    "total(bjhand)"
   ]
  },
  {
   "cell_type": "markdown",
   "metadata": {
    "collapsed": true
   },
   "source": [
    "### <span style=\"color:teal\">Extra Credit Ideas</span>"
   ]
  },
  {
   "cell_type": "markdown",
   "metadata": {},
   "source": [
    "If you want to earn extra credit points for this project try one of the extensions listed below (or feel free to invent other ways to extend the project).\n",
    "\n",
    "<span style=\"color:red; font-weight:bold;\">Important:</span>  To earn extra credit points make sure you fill in the following markup cell to explain what you did so the graders will look for your extensions when they grade your project:"
   ]
  },
  {
   "cell_type": "markdown",
   "metadata": {},
   "source": [
    "=== Describe any extra credit here ===\n",
    ">> Accepts argument of class to create deck based on class given"
   ]
  },
  {
   "cell_type": "code",
   "execution_count": 20,
   "metadata": {
    "collapsed": true
   },
   "outputs": [],
   "source": [
    "def new_deck(className):\n",
    "    '''\n",
    "    Prints new deck of either normal card deck or blackjack card deck based on parameter\n",
    "    Arguments: className\n",
    "    Prints:Deck\n",
    "    \n",
    "    '''\n",
    "    if className==\"Card\":\n",
    "        deck = [ Card(i) for i in range(52) ]\n",
    "    elif className==\"BlackjackCard\":\n",
    "        deck = [ BlackjackCard(i) for i in range(52) ]\n",
    "    print(deck)"
   ]
  },
  {
   "cell_type": "code",
   "execution_count": 1,
   "metadata": {
    "collapsed": true
   },
   "outputs": [],
   "source": [
    "def new_deck(className):\n",
    "    '''\n",
    "    Prints new deck of either normal card deck or blackjack card deck based on parameter\n",
    "    Arguments: className\n",
    "    Prints:Deck\n",
    "    \n",
    "    '''\n",
    "  \n",
    "    deck = [ className(i) for i in range(52) ]\n",
    "    print(deck)"
   ]
  },
  {
   "cell_type": "code",
   "execution_count": 3,
   "metadata": {
    "collapsed": false
   },
   "outputs": [
    {
     "ename": "TypeError",
     "evalue": "'int' object is not callable",
     "output_type": "error",
     "traceback": [
      "\u001b[1;31m---------------------------------------------------------------------------\u001b[0m",
      "\u001b[1;31mTypeError\u001b[0m                                 Traceback (most recent call last)",
      "\u001b[1;32m<ipython-input-3-f0065e1200c4>\u001b[0m in \u001b[0;36m<module>\u001b[1;34m()\u001b[0m\n\u001b[1;32m----> 1\u001b[1;33m \u001b[0mnew_deck\u001b[0m\u001b[1;33m(\u001b[0m\u001b[1;36m5\u001b[0m\u001b[1;33m)\u001b[0m\u001b[1;33m\u001b[0m\u001b[0m\n\u001b[0m",
      "\u001b[1;32m<ipython-input-1-5970cbe87de5>\u001b[0m in \u001b[0;36mnew_deck\u001b[1;34m(className)\u001b[0m\n\u001b[0;32m      7\u001b[0m     '''\n\u001b[0;32m      8\u001b[0m \u001b[1;33m\u001b[0m\u001b[0m\n\u001b[1;32m----> 9\u001b[1;33m     \u001b[0mdeck\u001b[0m \u001b[1;33m=\u001b[0m \u001b[1;33m[\u001b[0m \u001b[0mclassName\u001b[0m\u001b[1;33m(\u001b[0m\u001b[0mi\u001b[0m\u001b[1;33m)\u001b[0m \u001b[1;32mfor\u001b[0m \u001b[0mi\u001b[0m \u001b[1;32min\u001b[0m \u001b[0mrange\u001b[0m\u001b[1;33m(\u001b[0m\u001b[1;36m52\u001b[0m\u001b[1;33m)\u001b[0m \u001b[1;33m]\u001b[0m\u001b[1;33m\u001b[0m\u001b[0m\n\u001b[0m\u001b[0;32m     10\u001b[0m     \u001b[0mprint\u001b[0m\u001b[1;33m(\u001b[0m\u001b[0mdeck\u001b[0m\u001b[1;33m)\u001b[0m\u001b[1;33m\u001b[0m\u001b[0m\n",
      "\u001b[1;32m<ipython-input-1-5970cbe87de5>\u001b[0m in \u001b[0;36m<listcomp>\u001b[1;34m(.0)\u001b[0m\n\u001b[0;32m      7\u001b[0m     '''\n\u001b[0;32m      8\u001b[0m \u001b[1;33m\u001b[0m\u001b[0m\n\u001b[1;32m----> 9\u001b[1;33m     \u001b[0mdeck\u001b[0m \u001b[1;33m=\u001b[0m \u001b[1;33m[\u001b[0m \u001b[0mclassName\u001b[0m\u001b[1;33m(\u001b[0m\u001b[0mi\u001b[0m\u001b[1;33m)\u001b[0m \u001b[1;32mfor\u001b[0m \u001b[0mi\u001b[0m \u001b[1;32min\u001b[0m \u001b[0mrange\u001b[0m\u001b[1;33m(\u001b[0m\u001b[1;36m52\u001b[0m\u001b[1;33m)\u001b[0m \u001b[1;33m]\u001b[0m\u001b[1;33m\u001b[0m\u001b[0m\n\u001b[0m\u001b[0;32m     10\u001b[0m     \u001b[0mprint\u001b[0m\u001b[1;33m(\u001b[0m\u001b[0mdeck\u001b[0m\u001b[1;33m)\u001b[0m\u001b[1;33m\u001b[0m\u001b[0m\n",
      "\u001b[1;31mTypeError\u001b[0m: 'int' object is not callable"
     ]
    }
   ],
   "source": [
    "new_deck(5)"
   ]
  },
  {
   "cell_type": "markdown",
   "metadata": {},
   "source": [
    "#####  Validate the Argument Passed to Constructors"
   ]
  },
  {
   "cell_type": "markdown",
   "metadata": {},
   "source": [
    "Have the Card constructor check to make sure the card ID argument is between 0 and 51 and raise an exception otherwise."
   ]
  },
  {
   "cell_type": "markdown",
   "metadata": {},
   "source": [
    "##### Allow Strings or Integers to be Passed to Constructors"
   ]
  },
  {
   "cell_type": "markdown",
   "metadata": {},
   "source": [
    "Can you figure out how to allow users to pass either a card ID or a string with a specified rank and suit to the Card constructor?  For example, to create the ace of spades the call could be either `Card(51)` or `Card(‘A♠’)`. \n",
    "\n",
    "If you get this working, will the new technique for specifying cards be inherited by the BlackjackCard class, or do you have to add some additional code to the BlackjackCard constructor?"
   ]
  },
  {
   "cell_type": "markdown",
   "metadata": {},
   "source": [
    "##### Write a `new_deck` Function"
   ]
  },
  {
   "cell_type": "markdown",
   "metadata": {},
   "source": [
    "Write a function named `new_deck` that takes the name of a class as an argument and returns a list of 52 card objects of that type:\n",
    "<pre>\n",
    ">>> deck = new_deck(Card)\n",
    ">>> bj_deck = new_deck(BlackjackCard)\n",
    "</pre>"
   ]
  }
 ],
 "metadata": {
  "kernelspec": {
   "display_name": "Python 3",
   "language": "python",
   "name": "python3"
  },
  "language_info": {
   "codemirror_mode": {
    "name": "ipython",
    "version": 3
   },
   "file_extension": ".py",
   "mimetype": "text/x-python",
   "name": "python",
   "nbconvert_exporter": "python",
   "pygments_lexer": "ipython3",
   "version": "3.4.0"
  }
 },
 "nbformat": 4,
 "nbformat_minor": 0
}
